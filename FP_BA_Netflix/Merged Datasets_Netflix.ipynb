{
 "cells": [
  {
   "cell_type": "markdown",
   "id": "9c7b16d8-a213-4cb5-aaab-cb3507ddcdcd",
   "metadata": {},
   "source": [
    "## Cleaning and Merging the datasets"
   ]
  },
  {
   "cell_type": "code",
   "execution_count": 3,
   "id": "cf751ec0-c5e4-4656-a5e0-570677c99976",
   "metadata": {},
   "outputs": [],
   "source": [
    "# Import necessary libraries\n",
    "import pandas as pd"
   ]
  },
  {
   "cell_type": "code",
   "execution_count": 8,
   "id": "9d5a3384-378c-472d-b2e1-b9c722a05c7f",
   "metadata": {},
   "outputs": [],
   "source": [
    "# Load the datasets using raw string notation to avoid escape character issues\n",
    "data1 = pd.read_csv(r'C:\\Users\\saman\\Downloads\\FP_BA_Netflix\\clean_datan1.csv')\n",
    "data2 = pd.read_csv(r'C:\\Users\\saman\\Downloads\\FP_BA_Netflix\\clean_datan2.csv')\n",
    "data3 = pd.read_csv(r'C:\\Users\\saman\\Downloads\\FP_BA_Netflix\\clean_datan3.csv')"
   ]
  },
  {
   "cell_type": "code",
   "execution_count": 10,
   "id": "6f402130-9c0c-4e62-b53a-25dfd32508b6",
   "metadata": {},
   "outputs": [
    {
     "name": "stdout",
     "output_type": "stream",
     "text": [
      "Data 1:\n",
      "                    title  year certificate  duration_min  \\\n",
      "0               Cobra Kai  2018       TV-14          30.0   \n",
      "1               The Crown  2016       TV-MA          58.0   \n",
      "2        Better Call Saul  2015       TV-MA          46.0   \n",
      "3           Devil in Ohio  2022       TV-MA         356.0   \n",
      "4  Cyberpunk: Edgerunners  2022       TV-MA          24.0   \n",
      "\n",
      "                          genre  rating  \\\n",
      "0         Action, Comedy, Drama     8.5   \n",
      "1     Biography, Drama, History     8.7   \n",
      "2                  Crime, Drama     8.9   \n",
      "3        Drama, Horror, Mystery     5.9   \n",
      "4  Animation, Action, Adventure     8.6   \n",
      "\n",
      "                                         description  \\\n",
      "0  Decades after their 1984 All Valley Karate Tou...   \n",
      "1  Follows the political rivalries and romance of...   \n",
      "2  The trials and tribulations of criminal lawyer...   \n",
      "3  When a psychiatrist shelters a mysterious cult...   \n",
      "4  A Street Kid trying to survive in a technology...   \n",
      "\n",
      "                                               stars     votes  \n",
      "0  ['Ralph Macchio, ', 'William Zabka, ', 'Courtn...  177031.0  \n",
      "1  ['Claire Foy, ', 'Olivia Colman, ', 'Imelda St...  199885.0  \n",
      "2  ['Bob Odenkirk, ', 'Rhea Seehorn, ', 'Jonathan...  501384.0  \n",
      "3  ['Emily Deschanel, ', 'Sam Jaeger, ', 'Gerardo...    9773.0  \n",
      "4  ['Zach Aguilar, ', 'Kenichiro Ohashi, ', 'Emi ...   15413.0  \n",
      "\n",
      "Data 2:\n",
      "                   title rating  \\\n",
      "0           White Chicks  PG-13   \n",
      "1    Lucky Number Slevin      R   \n",
      "2         Grey's Anatomy  TV-14   \n",
      "3           Prison Break  TV-14   \n",
      "4  How I Met Your Mother  TV-PG   \n",
      "\n",
      "                                         ratingLevel  ratingDescription  \\\n",
      "0  crude and sexual humor, language and some drug...                 80   \n",
      "1  strong violence, sexual content and adult lang...                100   \n",
      "2  Parents strongly cautioned. May be unsuitable ...                 90   \n",
      "3  Parents strongly cautioned. May be unsuitable ...                 90   \n",
      "4  Parental guidance suggested. May not be suitab...                 70   \n",
      "\n",
      "   release year  user rating score  user rating size  \n",
      "0          2004          82.000000                80  \n",
      "1          2006          81.398438                82  \n",
      "2          2016          98.000000                80  \n",
      "3          2008          98.000000                80  \n",
      "4          2014          94.000000                80  \n",
      "\n",
      "Data 3:\n",
      "               title            genre language  imdb_score    premiere  \\\n",
      "0   Notes for My Son            Drama  Spanish         6.3  11/24/2020   \n",
      "1   To Each, Her Own  Romantic comedy   French         5.3   6/24/2018   \n",
      "2      The Lovebirds  Romantic comedy  English         6.1   5/22/2020   \n",
      "3     The Perfection  Horror-thriller  English         6.1   5/24/2019   \n",
      "4  Happy Anniversary  Romantic comedy  English         5.8   3/30/2018   \n",
      "\n",
      "   runtime        year  \n",
      "0       83  2020-01-01  \n",
      "1       95  2018-01-01  \n",
      "2       87  2020-01-01  \n",
      "3       90  2019-01-01  \n",
      "4       78  2018-01-01  \n"
     ]
    }
   ],
   "source": [
    "# Display the first few rows of each dataset to understand their structure\n",
    "print(\"Data 1:\")\n",
    "print(data1.head())\n",
    "\n",
    "print(\"\\nData 2:\")\n",
    "print(data2.head())\n",
    "\n",
    "print(\"\\nData 3:\")\n",
    "print(data3.head())"
   ]
  },
  {
   "cell_type": "code",
   "execution_count": 12,
   "id": "93c3e235-d9f1-4296-b491-2557e7591b42",
   "metadata": {},
   "outputs": [],
   "source": [
    "# Convert the 'year' column to a datetime object if it's not already for data3\n",
    "data3['year'] = pd.to_datetime(data3['year'], errors='coerce')  # Coerce invalid formats to NaT"
   ]
  },
  {
   "cell_type": "code",
   "execution_count": 14,
   "id": "7f9e430f-394a-4cb9-9aae-18ef25422790",
   "metadata": {},
   "outputs": [],
   "source": [
    "# Extract only the year part\n",
    "data3['year'] = data3['year'].dt.year.astype(str)"
   ]
  },
  {
   "cell_type": "code",
   "execution_count": 16,
   "id": "835e4de8-b18e-4bae-a1ac-38254216c80e",
   "metadata": {},
   "outputs": [],
   "source": [
    "# Save the cleaned data3 for verification if needed\n",
    "data3.to_csv(r'C:\\Users\\saman\\Downloads\\FP_BA_Netflix\\clean_datan3.csv', index=False)"
   ]
  },
  {
   "cell_type": "code",
   "execution_count": 18,
   "id": "7c4b6934-7c49-4d5a-8d19-fd6bad221dfa",
   "metadata": {},
   "outputs": [
    {
     "name": "stdout",
     "output_type": "stream",
     "text": [
      "               title  year\n",
      "0   Notes for My Son  2020\n",
      "1   To Each, Her Own  2018\n",
      "2      The Lovebirds  2020\n",
      "3     The Perfection  2019\n",
      "4  Happy Anniversary  2018\n"
     ]
    }
   ],
   "source": [
    "# Preview the cleaned year column\n",
    "print(data3[['title', 'year']].head())"
   ]
  },
  {
   "cell_type": "code",
   "execution_count": 20,
   "id": "8554e92e-05fb-419d-8bea-e83efa6b6555",
   "metadata": {},
   "outputs": [],
   "source": [
    "# Transform the 'rating score' column for data2\n",
    "data2['rating'] = (data2['user rating score'] / 10).round(1)"
   ]
  },
  {
   "cell_type": "code",
   "execution_count": 22,
   "id": "f1c6786f-25da-491c-acf5-49526e02cb51",
   "metadata": {},
   "outputs": [],
   "source": [
    "# Drop the old 'user rating score' column if no longer needed\n",
    "data2 = data2.drop(columns=['user rating score'])"
   ]
  },
  {
   "cell_type": "code",
   "execution_count": 24,
   "id": "6027071e-2dc1-40cd-9128-5ec78fcf684f",
   "metadata": {},
   "outputs": [],
   "source": [
    "# Save the updated dataset for verification if needed\n",
    "data2.to_csv(r'C:\\Users\\saman\\Downloads\\FP_BA_Netflix\\clean_datan2.csv', index=False)"
   ]
  },
  {
   "cell_type": "code",
   "execution_count": 26,
   "id": "dd00d647-09f3-47ed-89d1-07cccd2ae8b2",
   "metadata": {},
   "outputs": [
    {
     "name": "stdout",
     "output_type": "stream",
     "text": [
      "                   title  rating\n",
      "0           White Chicks     8.2\n",
      "1    Lucky Number Slevin     8.1\n",
      "2         Grey's Anatomy     9.8\n",
      "3           Prison Break     9.8\n",
      "4  How I Met Your Mother     9.4\n"
     ]
    }
   ],
   "source": [
    "# Preview the new rate column\n",
    "print(data2[['title', 'rating']].head())"
   ]
  },
  {
   "cell_type": "code",
   "execution_count": 28,
   "id": "7af94b4f-0174-41ad-bb93-41494d2b0b7b",
   "metadata": {},
   "outputs": [],
   "source": [
    "# Rename the column 'imdb_score' to 'rating' from data 3\n",
    "data3.rename(columns={'imdb_score': 'rating'}, inplace=True)"
   ]
  },
  {
   "cell_type": "code",
   "execution_count": 30,
   "id": "d98ac6cc-9b0c-449e-beef-4c9a52ab194c",
   "metadata": {},
   "outputs": [],
   "source": [
    "# Save the updated dataset for verification if needed\n",
    "data3.to_csv(r'C:\\Users\\saman\\Downloads\\FP_BA_Netflix\\clean_datan3.csv', index=False)"
   ]
  },
  {
   "cell_type": "code",
   "execution_count": 32,
   "id": "88e6454f-836e-4645-a41c-1f1fc5a408de",
   "metadata": {},
   "outputs": [
    {
     "name": "stdout",
     "output_type": "stream",
     "text": [
      "               title            genre language  rating    premiere  runtime  \\\n",
      "0   Notes for My Son            Drama  Spanish     6.3  11/24/2020       83   \n",
      "1   To Each, Her Own  Romantic comedy   French     5.3   6/24/2018       95   \n",
      "2      The Lovebirds  Romantic comedy  English     6.1   5/22/2020       87   \n",
      "3     The Perfection  Horror-thriller  English     6.1   5/24/2019       90   \n",
      "4  Happy Anniversary  Romantic comedy  English     5.8   3/30/2018       78   \n",
      "\n",
      "   year  \n",
      "0  2020  \n",
      "1  2018  \n",
      "2  2020  \n",
      "3  2019  \n",
      "4  2018  \n"
     ]
    }
   ],
   "source": [
    "# Preview the new rate column\n",
    "print(data3.head())"
   ]
  },
  {
   "cell_type": "code",
   "execution_count": 40,
   "id": "2fe755bb-c9b4-4c1b-9a3d-c5a296429216",
   "metadata": {},
   "outputs": [],
   "source": [
    "# Rename the column 'release year' to 'year' from data 2\n",
    "data2.rename(columns={'release year': 'year'}, inplace=True)"
   ]
  },
  {
   "cell_type": "code",
   "execution_count": 42,
   "id": "f0226ffa-c5df-485b-8831-94aff7ae164c",
   "metadata": {},
   "outputs": [],
   "source": [
    "# Save the updated dataset for verification if needed\n",
    "data2.to_csv(r'C:\\Users\\saman\\Downloads\\FP_BA_Netflix\\clean_datan2.csv', index=False)"
   ]
  },
  {
   "cell_type": "code",
   "execution_count": 44,
   "id": "0c607b32-cc16-45ba-a280-09abc13b51fc",
   "metadata": {},
   "outputs": [
    {
     "name": "stdout",
     "output_type": "stream",
     "text": [
      "                   title  rating  \\\n",
      "0           White Chicks     8.2   \n",
      "1    Lucky Number Slevin     8.1   \n",
      "2         Grey's Anatomy     9.8   \n",
      "3           Prison Break     9.8   \n",
      "4  How I Met Your Mother     9.4   \n",
      "\n",
      "                                         ratingLevel  ratingDescription  year  \\\n",
      "0  crude and sexual humor, language and some drug...                 80  2004   \n",
      "1  strong violence, sexual content and adult lang...                100  2006   \n",
      "2  Parents strongly cautioned. May be unsuitable ...                 90  2016   \n",
      "3  Parents strongly cautioned. May be unsuitable ...                 90  2008   \n",
      "4  Parental guidance suggested. May not be suitab...                 70  2014   \n",
      "\n",
      "   user rating size  \n",
      "0                80  \n",
      "1                82  \n",
      "2                80  \n",
      "3                80  \n",
      "4                80  \n"
     ]
    }
   ],
   "source": [
    "# Preview the new year column\n",
    "print(data2.head())"
   ]
  },
  {
   "cell_type": "code",
   "execution_count": 46,
   "id": "6bc36dbf-c622-4d01-ab51-9f804f328f02",
   "metadata": {},
   "outputs": [
    {
     "name": "stdout",
     "output_type": "stream",
     "text": [
      "Data 1:\n",
      "                    title  year certificate  duration_min  \\\n",
      "0               Cobra Kai  2018       TV-14          30.0   \n",
      "1               The Crown  2016       TV-MA          58.0   \n",
      "2        Better Call Saul  2015       TV-MA          46.0   \n",
      "3           Devil in Ohio  2022       TV-MA         356.0   \n",
      "4  Cyberpunk: Edgerunners  2022       TV-MA          24.0   \n",
      "\n",
      "                          genre  rating  \\\n",
      "0         Action, Comedy, Drama     8.5   \n",
      "1     Biography, Drama, History     8.7   \n",
      "2                  Crime, Drama     8.9   \n",
      "3        Drama, Horror, Mystery     5.9   \n",
      "4  Animation, Action, Adventure     8.6   \n",
      "\n",
      "                                         description  \\\n",
      "0  Decades after their 1984 All Valley Karate Tou...   \n",
      "1  Follows the political rivalries and romance of...   \n",
      "2  The trials and tribulations of criminal lawyer...   \n",
      "3  When a psychiatrist shelters a mysterious cult...   \n",
      "4  A Street Kid trying to survive in a technology...   \n",
      "\n",
      "                                               stars     votes  \n",
      "0  ['Ralph Macchio, ', 'William Zabka, ', 'Courtn...  177031.0  \n",
      "1  ['Claire Foy, ', 'Olivia Colman, ', 'Imelda St...  199885.0  \n",
      "2  ['Bob Odenkirk, ', 'Rhea Seehorn, ', 'Jonathan...  501384.0  \n",
      "3  ['Emily Deschanel, ', 'Sam Jaeger, ', 'Gerardo...    9773.0  \n",
      "4  ['Zach Aguilar, ', 'Kenichiro Ohashi, ', 'Emi ...   15413.0  \n",
      "\n",
      "Data 2:\n",
      "                   title  rating  \\\n",
      "0           White Chicks     8.2   \n",
      "1    Lucky Number Slevin     8.1   \n",
      "2         Grey's Anatomy     9.8   \n",
      "3           Prison Break     9.8   \n",
      "4  How I Met Your Mother     9.4   \n",
      "\n",
      "                                         ratingLevel  ratingDescription  year  \\\n",
      "0  crude and sexual humor, language and some drug...                 80  2004   \n",
      "1  strong violence, sexual content and adult lang...                100  2006   \n",
      "2  Parents strongly cautioned. May be unsuitable ...                 90  2016   \n",
      "3  Parents strongly cautioned. May be unsuitable ...                 90  2008   \n",
      "4  Parental guidance suggested. May not be suitab...                 70  2014   \n",
      "\n",
      "   user rating size  \n",
      "0                80  \n",
      "1                82  \n",
      "2                80  \n",
      "3                80  \n",
      "4                80  \n",
      "\n",
      "Data 3:\n",
      "               title            genre language  rating    premiere  runtime  \\\n",
      "0   Notes for My Son            Drama  Spanish     6.3  11/24/2020       83   \n",
      "1   To Each, Her Own  Romantic comedy   French     5.3   6/24/2018       95   \n",
      "2      The Lovebirds  Romantic comedy  English     6.1   5/22/2020       87   \n",
      "3     The Perfection  Horror-thriller  English     6.1   5/24/2019       90   \n",
      "4  Happy Anniversary  Romantic comedy  English     5.8   3/30/2018       78   \n",
      "\n",
      "   year  \n",
      "0  2020  \n",
      "1  2018  \n",
      "2  2020  \n",
      "3  2019  \n",
      "4  2018  \n"
     ]
    }
   ],
   "source": [
    "# Display the first few rows of each dataset to understand their structure\n",
    "print(\"Data 1:\")\n",
    "print(data1.head())\n",
    "\n",
    "print(\"\\nData 2:\")\n",
    "print(data2.head())\n",
    "\n",
    "print(\"\\nData 3:\")\n",
    "print(data3.head())"
   ]
  },
  {
   "cell_type": "code",
   "execution_count": 50,
   "id": "9811d46d-669f-445f-8295-1b3981cda16d",
   "metadata": {},
   "outputs": [
    {
     "name": "stdout",
     "output_type": "stream",
     "text": [
      "Data 1:\n",
      "title           0\n",
      "year            0\n",
      "certificate     0\n",
      "duration_min    0\n",
      "genre           0\n",
      "rating          0\n",
      "description     0\n",
      "stars           0\n",
      "votes           0\n",
      "dtype: int64\n",
      "\n",
      "Data 2:\n",
      "title                0\n",
      "rating               0\n",
      "ratingLevel          0\n",
      "ratingDescription    0\n",
      "year                 0\n",
      "user rating size     0\n",
      "dtype: int64\n",
      "\n",
      "Data 3:\n",
      "title       0\n",
      "genre       0\n",
      "language    0\n",
      "rating      0\n",
      "premiere    0\n",
      "runtime     0\n",
      "year        0\n",
      "dtype: int64\n"
     ]
    }
   ],
   "source": [
    "# Check for missing values\n",
    "print(\"Data 1:\")\n",
    "print(data1.isnull().sum())\n",
    "\n",
    "print(\"\\nData 2:\")\n",
    "print(data2.isnull().sum())\n",
    "\n",
    "print(\"\\nData 3:\")\n",
    "print(data3.isnull().sum())"
   ]
  },
  {
   "cell_type": "code",
   "execution_count": 52,
   "id": "d7064795-767b-4fba-b19d-9cabf374300d",
   "metadata": {},
   "outputs": [],
   "source": [
    "# Step 1: Merge Dataset 1 and Dataset 2 on 'title' , 'year' and 'rating'\n",
    "merged_1_2 = pd.merge(data1, data2, on=['title', 'year' , 'rating'], how='outer', suffixes=('_data1', '_data2'))"
   ]
  },
  {
   "cell_type": "code",
   "execution_count": 54,
   "id": "5e894339-405b-495f-a42c-ea64d7773fb7",
   "metadata": {},
   "outputs": [],
   "source": [
    "# Convert 'year' column to int in both DataFrames to ensure they are of the same type\n",
    "merged_1_2['year'] = merged_1_2['year'].astype(int)  # Convert to int\n",
    "data3['year'] = data3['year'].astype(int)  # Convert to int"
   ]
  },
  {
   "cell_type": "code",
   "execution_count": 56,
   "id": "7d6d81d4-bfd1-447a-9ef8-f26d2f594704",
   "metadata": {},
   "outputs": [],
   "source": [
    "# Step 2: Merge the result with Dataset 3 on 'title' , 'year' , 'rating' and 'genre'\n",
    "final_merged_data = pd.merge(merged_1_2, data3, on=['title', 'year', 'rating', 'genre'], how='outer', suffixes=('', '_data3'))"
   ]
  },
  {
   "cell_type": "code",
   "execution_count": 58,
   "id": "8a0eb60e-39b9-4d13-bafd-a1a428ca1d35",
   "metadata": {},
   "outputs": [],
   "source": [
    "# Save the final merged dataset\n",
    "output_path = r'C:\\Users\\saman\\Downloads\\FP_BA_Netflix\\final_merged_data.csv'\n",
    "final_merged_data.to_csv(output_path, index=False)"
   ]
  },
  {
   "cell_type": "code",
   "execution_count": 60,
   "id": "0ec76bb8-17b0-47b7-a891-4c398a88d026",
   "metadata": {},
   "outputs": [
    {
     "name": "stdout",
     "output_type": "stream",
     "text": [
      "                           title  year certificate  duration_min  \\\n",
      "0                       #ABtalks  2018       TV-MA      73.77162   \n",
      "1                         #Alive  2020       TV-MA      98.00000   \n",
      "2  #AnneFrank - Parallel Stories  2019       TV-MA      92.00000   \n",
      "3                       #BlackAF  2020       TV-MA      36.00000   \n",
      "4            #FriendButMarried 2  2020       TV-14     100.00000   \n",
      "\n",
      "                      genre  rating  \\\n",
      "0                    Comedy     9.1   \n",
      "1     Action, Drama, Horror     6.3   \n",
      "2            Drama, History     6.5   \n",
      "3                    Comedy     6.7   \n",
      "4  Biography, Comedy, Drama     6.9   \n",
      "\n",
      "                                         description  \\\n",
      "0  #ABtalks is an interview show hosted by Anas B...   \n",
      "1  The rapid spread of an unknown infection has l...   \n",
      "2  It is based on five women who did survive the ...   \n",
      "3  A father takes an irreverent and honest approa...   \n",
      "4  Ayudia (Mawar De Jongh) is not satisfied enoug...   \n",
      "\n",
      "                                               stars    votes ratingLevel  \\\n",
      "0  ['Karen Wazen, ', 'Deema Al Asadi, ', 'Hala Ab...     15.0         NaN   \n",
      "1  ['Il Cho', '| ', '    Stars:', 'Yoo Ah-in, ', ...  39285.0         NaN   \n",
      "2  ['Sabina Fedeli, ', 'Anna Migotto', '| ', '   ...   1569.0         NaN   \n",
      "3  ['Rashida Jones, ', 'Kenya Barris, ', 'Iman Be...   4887.0         NaN   \n",
      "4  ['Rako Prijanto', '| ', '    Stars:', 'Adipati...    317.0         NaN   \n",
      "\n",
      "   ratingDescription  user rating size language premiere  runtime  \n",
      "0                NaN               NaN      NaN      NaN      NaN  \n",
      "1                NaN               NaN      NaN      NaN      NaN  \n",
      "2                NaN               NaN      NaN      NaN      NaN  \n",
      "3                NaN               NaN      NaN      NaN      NaN  \n",
      "4                NaN               NaN      NaN      NaN      NaN  \n"
     ]
    }
   ],
   "source": [
    "# Preview the new dataset\n",
    "print(final_merged_data.head())"
   ]
  },
  {
   "cell_type": "code",
   "execution_count": 62,
   "id": "e9fbe49b-474f-4cbf-8139-63670c3cfef9",
   "metadata": {},
   "outputs": [
    {
     "name": "stdout",
     "output_type": "stream",
     "text": [
      "title                    0\n",
      "year                     0\n",
      "certificate           1092\n",
      "duration_min          1092\n",
      "genre                  498\n",
      "rating                   0\n",
      "description           1092\n",
      "stars                 1092\n",
      "votes                 1092\n",
      "ratingLevel          10550\n",
      "ratingDescription    10550\n",
      "user rating size     10550\n",
      "language             10412\n",
      "premiere             10412\n",
      "runtime              10412\n",
      "dtype: int64\n"
     ]
    }
   ],
   "source": [
    "# Check for missing values\n",
    "print(final_merged_data.isnull().sum())"
   ]
  },
  {
   "cell_type": "code",
   "execution_count": 64,
   "id": "6105468d-bfac-4878-a8b1-71b89d034f80",
   "metadata": {},
   "outputs": [],
   "source": [
    "# Remove '#' from the 'title' column in the merged dataset\n",
    "final_merged_data['title'] = final_merged_data['title'].str.replace('#', '', regex=False)"
   ]
  },
  {
   "cell_type": "code",
   "execution_count": 66,
   "id": "814d227f-3fa5-4e83-b6c9-1962fc660c7f",
   "metadata": {},
   "outputs": [],
   "source": [
    "# Save the updated dataset\n",
    "output_path = r'C:\\Users\\saman\\Downloads\\FP_BA_Netflix\\final_merged_data.csv'\n",
    "final_merged_data.to_csv(output_path, index=False)"
   ]
  },
  {
   "cell_type": "code",
   "execution_count": 68,
   "id": "7ea2cb7d-755a-4046-8f19-a059b1f88b33",
   "metadata": {},
   "outputs": [
    {
     "name": "stdout",
     "output_type": "stream",
     "text": [
      "                          title  year certificate  duration_min  \\\n",
      "0                       ABtalks  2018       TV-MA      73.77162   \n",
      "1                         Alive  2020       TV-MA      98.00000   \n",
      "2  AnneFrank - Parallel Stories  2019       TV-MA      92.00000   \n",
      "3                       BlackAF  2020       TV-MA      36.00000   \n",
      "4            FriendButMarried 2  2020       TV-14     100.00000   \n",
      "\n",
      "                      genre  rating  \\\n",
      "0                    Comedy     9.1   \n",
      "1     Action, Drama, Horror     6.3   \n",
      "2            Drama, History     6.5   \n",
      "3                    Comedy     6.7   \n",
      "4  Biography, Comedy, Drama     6.9   \n",
      "\n",
      "                                         description  \\\n",
      "0  #ABtalks is an interview show hosted by Anas B...   \n",
      "1  The rapid spread of an unknown infection has l...   \n",
      "2  It is based on five women who did survive the ...   \n",
      "3  A father takes an irreverent and honest approa...   \n",
      "4  Ayudia (Mawar De Jongh) is not satisfied enoug...   \n",
      "\n",
      "                                               stars    votes ratingLevel  \\\n",
      "0  ['Karen Wazen, ', 'Deema Al Asadi, ', 'Hala Ab...     15.0         NaN   \n",
      "1  ['Il Cho', '| ', '    Stars:', 'Yoo Ah-in, ', ...  39285.0         NaN   \n",
      "2  ['Sabina Fedeli, ', 'Anna Migotto', '| ', '   ...   1569.0         NaN   \n",
      "3  ['Rashida Jones, ', 'Kenya Barris, ', 'Iman Be...   4887.0         NaN   \n",
      "4  ['Rako Prijanto', '| ', '    Stars:', 'Adipati...    317.0         NaN   \n",
      "\n",
      "   ratingDescription  user rating size language premiere  runtime  \n",
      "0                NaN               NaN      NaN      NaN      NaN  \n",
      "1                NaN               NaN      NaN      NaN      NaN  \n",
      "2                NaN               NaN      NaN      NaN      NaN  \n",
      "3                NaN               NaN      NaN      NaN      NaN  \n",
      "4                NaN               NaN      NaN      NaN      NaN  \n"
     ]
    }
   ],
   "source": [
    "# Preview the new dataset\n",
    "print(final_merged_data.head())"
   ]
  },
  {
   "cell_type": "code",
   "execution_count": 72,
   "id": "1fe114ca-8686-4ef5-8c80-e70196e5bdfa",
   "metadata": {},
   "outputs": [],
   "source": [
    "# Remove '#' from the 'description' column in the merged dataset\n",
    "final_merged_data['description'] = final_merged_data['description'].str.replace('#', '', regex=False)"
   ]
  },
  {
   "cell_type": "code",
   "execution_count": 74,
   "id": "7a424660-4a71-4016-839b-fb787e75916f",
   "metadata": {},
   "outputs": [],
   "source": [
    "# Save the updated dataset\n",
    "output_path = r'C:\\Users\\saman\\Downloads\\FP_BA_Netflix\\final_merged_data.csv'\n",
    "final_merged_data.to_csv(output_path, index=False)"
   ]
  },
  {
   "cell_type": "code",
   "execution_count": 76,
   "id": "0d5dd54a-9779-4e4b-b062-776fae8ae48b",
   "metadata": {},
   "outputs": [
    {
     "name": "stdout",
     "output_type": "stream",
     "text": [
      "                          title  year certificate  duration_min  \\\n",
      "0                       ABtalks  2018       TV-MA      73.77162   \n",
      "1                         Alive  2020       TV-MA      98.00000   \n",
      "2  AnneFrank - Parallel Stories  2019       TV-MA      92.00000   \n",
      "3                       BlackAF  2020       TV-MA      36.00000   \n",
      "4            FriendButMarried 2  2020       TV-14     100.00000   \n",
      "\n",
      "                      genre  rating  \\\n",
      "0                    Comedy     9.1   \n",
      "1     Action, Drama, Horror     6.3   \n",
      "2            Drama, History     6.5   \n",
      "3                    Comedy     6.7   \n",
      "4  Biography, Comedy, Drama     6.9   \n",
      "\n",
      "                                         description  \\\n",
      "0  ABtalks is an interview show hosted by Anas Bu...   \n",
      "1  The rapid spread of an unknown infection has l...   \n",
      "2  It is based on five women who did survive the ...   \n",
      "3  A father takes an irreverent and honest approa...   \n",
      "4  Ayudia (Mawar De Jongh) is not satisfied enoug...   \n",
      "\n",
      "                                               stars    votes ratingLevel  \\\n",
      "0  ['Karen Wazen, ', 'Deema Al Asadi, ', 'Hala Ab...     15.0         NaN   \n",
      "1  ['Il Cho', '| ', '    Stars:', 'Yoo Ah-in, ', ...  39285.0         NaN   \n",
      "2  ['Sabina Fedeli, ', 'Anna Migotto', '| ', '   ...   1569.0         NaN   \n",
      "3  ['Rashida Jones, ', 'Kenya Barris, ', 'Iman Be...   4887.0         NaN   \n",
      "4  ['Rako Prijanto', '| ', '    Stars:', 'Adipati...    317.0         NaN   \n",
      "\n",
      "   ratingDescription  user rating size language premiere  runtime  \n",
      "0                NaN               NaN      NaN      NaN      NaN  \n",
      "1                NaN               NaN      NaN      NaN      NaN  \n",
      "2                NaN               NaN      NaN      NaN      NaN  \n",
      "3                NaN               NaN      NaN      NaN      NaN  \n",
      "4                NaN               NaN      NaN      NaN      NaN  \n"
     ]
    }
   ],
   "source": [
    "# Preview the new dataset\n",
    "print(final_merged_data.head())"
   ]
  },
  {
   "cell_type": "markdown",
   "id": "9ca02d29-bd95-48c1-89a0-a856b1eea221",
   "metadata": {},
   "source": [
    "## Exploratory Data Analysis (EDA)"
   ]
  },
  {
   "cell_type": "code",
   "execution_count": 79,
   "id": "8089e411-e0a2-460d-9b72-26587e0a8477",
   "metadata": {},
   "outputs": [],
   "source": [
    "import numpy as np\n",
    "import matplotlib.pyplot as plt\n",
    "import seaborn as sns"
   ]
  },
  {
   "cell_type": "code",
   "execution_count": 81,
   "id": "8bd64243-1be3-48b5-82b9-49ea4a6dd706",
   "metadata": {},
   "outputs": [
    {
     "name": "stdout",
     "output_type": "stream",
     "text": [
      "                          title  year certificate  duration_min  \\\n",
      "0                       ABtalks  2018       TV-MA      73.77162   \n",
      "1                         Alive  2020       TV-MA      98.00000   \n",
      "2  AnneFrank - Parallel Stories  2019       TV-MA      92.00000   \n",
      "3                       BlackAF  2020       TV-MA      36.00000   \n",
      "4            FriendButMarried 2  2020       TV-14     100.00000   \n",
      "\n",
      "                      genre  rating  \\\n",
      "0                    Comedy     9.1   \n",
      "1     Action, Drama, Horror     6.3   \n",
      "2            Drama, History     6.5   \n",
      "3                    Comedy     6.7   \n",
      "4  Biography, Comedy, Drama     6.9   \n",
      "\n",
      "                                         description  \\\n",
      "0  ABtalks is an interview show hosted by Anas Bu...   \n",
      "1  The rapid spread of an unknown infection has l...   \n",
      "2  It is based on five women who did survive the ...   \n",
      "3  A father takes an irreverent and honest approa...   \n",
      "4  Ayudia (Mawar De Jongh) is not satisfied enoug...   \n",
      "\n",
      "                                               stars    votes ratingLevel  \\\n",
      "0  ['Karen Wazen, ', 'Deema Al Asadi, ', 'Hala Ab...     15.0         NaN   \n",
      "1  ['Il Cho', '| ', '    Stars:', 'Yoo Ah-in, ', ...  39285.0         NaN   \n",
      "2  ['Sabina Fedeli, ', 'Anna Migotto', '| ', '   ...   1569.0         NaN   \n",
      "3  ['Rashida Jones, ', 'Kenya Barris, ', 'Iman Be...   4887.0         NaN   \n",
      "4  ['Rako Prijanto', '| ', '    Stars:', 'Adipati...    317.0         NaN   \n",
      "\n",
      "   ratingDescription  user rating size language premiere  runtime  \n",
      "0                NaN               NaN      NaN      NaN      NaN  \n",
      "1                NaN               NaN      NaN      NaN      NaN  \n",
      "2                NaN               NaN      NaN      NaN      NaN  \n",
      "3                NaN               NaN      NaN      NaN      NaN  \n",
      "4                NaN               NaN      NaN      NaN      NaN  \n"
     ]
    }
   ],
   "source": [
    "# Check the first few rows of the data\n",
    "print(final_merged_data.head())"
   ]
  },
  {
   "cell_type": "code",
   "execution_count": 83,
   "id": "ec4bd083-8038-4362-8253-05a12bd5bd54",
   "metadata": {},
   "outputs": [
    {
     "name": "stdout",
     "output_type": "stream",
     "text": [
      "<class 'pandas.core.frame.DataFrame'>\n",
      "RangeIndex: 11053 entries, 0 to 11052\n",
      "Data columns (total 15 columns):\n",
      " #   Column             Non-Null Count  Dtype  \n",
      "---  ------             --------------  -----  \n",
      " 0   title              11053 non-null  object \n",
      " 1   year               11053 non-null  int32  \n",
      " 2   certificate        9961 non-null   object \n",
      " 3   duration_min       9961 non-null   float64\n",
      " 4   genre              10555 non-null  object \n",
      " 5   rating             11053 non-null  float64\n",
      " 6   description        9961 non-null   object \n",
      " 7   stars              9961 non-null   object \n",
      " 8   votes              9961 non-null   float64\n",
      " 9   ratingLevel        503 non-null    object \n",
      " 10  ratingDescription  503 non-null    float64\n",
      " 11  user rating size   503 non-null    float64\n",
      " 12  language           641 non-null    object \n",
      " 13  premiere           641 non-null    object \n",
      " 14  runtime            641 non-null    float64\n",
      "dtypes: float64(6), int32(1), object(8)\n",
      "memory usage: 1.2+ MB\n",
      "None\n"
     ]
    }
   ],
   "source": [
    "# Get a summary of the dataframe\n",
    "print(final_merged_data.info())"
   ]
  },
  {
   "cell_type": "code",
   "execution_count": 85,
   "id": "a161f825-cfe7-44c7-bdb1-3b0a392693a6",
   "metadata": {},
   "outputs": [
    {
     "name": "stdout",
     "output_type": "stream",
     "text": [
      "               year  duration_min        rating         votes  \\\n",
      "count  11053.000000   9961.000000  11053.000000  9.961000e+03   \n",
      "mean    1900.670678     73.784461      6.799129  1.951831e+04   \n",
      "std      467.768037     44.843359      1.165370  8.224157e+04   \n",
      "min        0.000000      1.000000      1.700000  5.000000e+00   \n",
      "25%     2014.000000     46.000000      6.200000  3.580000e+02   \n",
      "50%     2018.000000     73.771620      6.764515  1.745000e+03   \n",
      "75%     2020.000000     93.000000      7.600000  1.506200e+04   \n",
      "max     2025.000000    990.000000      9.900000  1.844075e+06   \n",
      "\n",
      "       ratingDescription  user rating size     runtime  \n",
      "count         503.000000        503.000000  641.000000  \n",
      "mean           68.880716         80.966203   93.371295  \n",
      "std            31.453464          0.998430   28.071160  \n",
      "min            10.000000         80.000000    4.000000  \n",
      "25%            41.000000         80.000000   86.000000  \n",
      "50%            70.000000         80.000000   97.000000  \n",
      "75%            90.000000         82.000000  107.000000  \n",
      "max           124.000000         82.000000  209.000000  \n"
     ]
    }
   ],
   "source": [
    "# Describe the numerical columns\n",
    "print(final_merged_data.describe())"
   ]
  },
  {
   "cell_type": "code",
   "execution_count": 87,
   "id": "d85bf1e6-47f2-4d63-9692-641d81e453f0",
   "metadata": {},
   "outputs": [
    {
     "name": "stdout",
     "output_type": "stream",
     "text": [
      "title                    0\n",
      "year                     0\n",
      "certificate           1092\n",
      "duration_min          1092\n",
      "genre                  498\n",
      "rating                   0\n",
      "description           1092\n",
      "stars                 1092\n",
      "votes                 1092\n",
      "ratingLevel          10550\n",
      "ratingDescription    10550\n",
      "user rating size     10550\n",
      "language             10412\n",
      "premiere             10412\n",
      "runtime              10412\n",
      "dtype: int64\n"
     ]
    }
   ],
   "source": [
    "# Check for missing values\n",
    "print(final_merged_data.isnull().sum())"
   ]
  },
  {
   "cell_type": "code",
   "execution_count": 89,
   "id": "a1cef262-59c6-47b7-940d-af200ae1bca3",
   "metadata": {},
   "outputs": [
    {
     "name": "stdout",
     "output_type": "stream",
     "text": [
      "58\n"
     ]
    }
   ],
   "source": [
    "# Check for duplicates\n",
    "print(final_merged_data.duplicated().sum())"
   ]
  },
  {
   "cell_type": "code",
   "execution_count": 93,
   "id": "2737471e-5265-4705-a0f8-1a5a423cf776",
   "metadata": {},
   "outputs": [],
   "source": [
    "# Find duplicate rows\n",
    "duplicates = final_merged_data[final_merged_data.duplicated()]"
   ]
  },
  {
   "cell_type": "code",
   "execution_count": 95,
   "id": "a24d3418-9c71-454e-a103-1587f6302a13",
   "metadata": {},
   "outputs": [
    {
     "name": "stdout",
     "output_type": "stream",
     "text": [
      "                                                  title  year certificate  \\\n",
      "46                                                 13th  2016         NaN   \n",
      "63                                                 1922  2017         NaN   \n",
      "122                                    5 Star Christmas  2018         NaN   \n",
      "249                                       A Secret Love  2020         NaN   \n",
      "298                                            AK vs AK  2020         NaN   \n",
      "665                                    Army of the Dead  2021         NaN   \n",
      "979                                 Beasts of No Nation  2015         NaN   \n",
      "1997                                    Crazy About Her  2021         NaN   \n",
      "2040                            Cuba and the Cameraman   2017         NaN   \n",
      "2099             Dance Dreams: Hot Chocolate Nutcracker  2020         NaN   \n",
      "2189           David Attenborough: A Life on Our Planet  2020         NaN   \n",
      "2288                         Deidra & Laney Rob a Train  2017         NaN   \n",
      "2465             Dolly Parton's Christmas on the Square  2020         NaN   \n",
      "2607                                    Earth and Blood  2020         NaN   \n",
      "2774                                             Evelyn  2019         NaN   \n",
      "2827                                           Extremis  2016         NaN   \n",
      "3100                           Freaks: You're One of Us  2020         NaN   \n",
      "3262                               Ghosts of Sugar Land  2019         NaN   \n",
      "3503                Guillermo Vilas: Settling the Score  2020         NaN   \n",
      "3714                                         Heroin(e)   2017         NaN   \n",
      "3795                                          His House  2020         NaN   \n",
      "3834                                Holiday in the Wild  2019         NaN   \n",
      "3943                                       House Arrest  2019       TV-MA   \n",
      "4093                                              Ibiza  2018         NaN   \n",
      "4104                     If Anything Happens I Love You  2020         NaN   \n",
      "4125                                    Imperial Dreams  2017         NaN   \n",
      "4211                                          Intuition  2020         NaN   \n",
      "4261                                         Isi & Ossi  2020         NaN   \n",
      "4532                                        June & Kopi  2021         NaN   \n",
      "4764                                       LA Originals  2020       TV-MA   \n",
      "4818                                          Laerte-se  2017         NaN   \n",
      "6078                 Octonauts & the Great Barrier Reef  2020         NaN   \n",
      "6303                                        Paper Lives  2021         NaN   \n",
      "6311                                            Paradox  2018         NaN   \n",
      "6328                                        Paris Is Us  2019         NaN   \n",
      "6483   Porta dos Fundos: The First Temptation of Christ  2019         NaN   \n",
      "6485                Porta dos Fundos: The Last Hangover  2018         NaN   \n",
      "6677                                       Rajma Chawal  2018         NaN   \n",
      "6978                                  Rooting for Roona  2020         NaN   \n",
      "6995                                    Roxanne Roxanne  2018         NaN   \n",
      "7120                                       Sandy Wexler  2017       TV-14   \n",
      "7134                    Sarah Cooper: Everything's Fine  2020         NaN   \n",
      "7301                                         Sextuplets  2019       TV-14   \n",
      "7563                                      Someone Great  2019         NaN   \n",
      "7638                               Spenser Confidential  2020         NaN   \n",
      "7676                                       Squared Love  2021         NaN   \n",
      "8002                                           Tallulah  2016         NaN   \n",
      "8493                                       The Disciple  2021         NaN   \n",
      "8496                                      The Discovery  2017         NaN   \n",
      "8839                                       The Irishman  2019         NaN   \n",
      "8958              The Legacy of a Whitetail Deer Hunter  2018         NaN   \n",
      "9148                                     The Open House  2018         NaN   \n",
      "9209                                     The Perfection  2019         NaN   \n",
      "9352                                  The Rachel Divide  2018         NaN   \n",
      "10284                                            Ultras  2020         NaN   \n",
      "10305                                          Uncorked  2020         NaN   \n",
      "10341                                   Unknown Origins  2020         NaN   \n",
      "10544                                    Velvet Buzzsaw  2019         NaN   \n",
      "\n",
      "       duration_min                    genre  rating  \\\n",
      "46              NaN              Documentary     8.2   \n",
      "63              NaN       Horror/Crime drama     6.3   \n",
      "122             NaN                   Comedy     4.6   \n",
      "249             NaN              Documentary     7.9   \n",
      "298             NaN                 Thriller     6.9   \n",
      "665             NaN             Zombie/Heist     5.9   \n",
      "979             NaN                War drama     7.7   \n",
      "1997            NaN          Romantic comedy     6.6   \n",
      "2040            NaN              Documentary     8.3   \n",
      "2099            NaN              Documentary     7.1   \n",
      "2189            NaN              Documentary     9.0   \n",
      "2288            NaN                    Drama     6.1   \n",
      "2465            NaN        Christmas musical     5.2   \n",
      "2607            NaN                   Action     4.9   \n",
      "2774            NaN              Documentary     7.1   \n",
      "2827            NaN              Documentary     7.3   \n",
      "3100            NaN       Supernatural drama     5.4   \n",
      "3262            NaN              Documentary     5.5   \n",
      "3503            NaN              Documentary     7.1   \n",
      "3714            NaN              Documentary     6.8   \n",
      "3795            NaN                 Thriller     6.5   \n",
      "3834            NaN        Adventure-romance     6.1   \n",
      "3943          104.0                   Comedy     5.5   \n",
      "4093            NaN                   Comedy     5.2   \n",
      "4104            NaN        Animation / Short     7.8   \n",
      "4125            NaN                    Drama     6.7   \n",
      "4211            NaN                 Thriller     5.3   \n",
      "4261            NaN          Romantic comedy     6.4   \n",
      "4532            NaN                    Drama     6.3   \n",
      "4764           92.0              Documentary     7.2   \n",
      "4818            NaN              Documentary     6.9   \n",
      "6078            NaN                Animation     7.3   \n",
      "6303            NaN                    Drama     6.7   \n",
      "6311            NaN  Musical/Western/Fantasy     3.9   \n",
      "6328            NaN            Romance drama     4.6   \n",
      "6483            NaN                   Comedy     4.6   \n",
      "6485            NaN                   Comedy     6.3   \n",
      "6677            NaN             Comedy-drama     5.8   \n",
      "6978            NaN              Documentary     7.1   \n",
      "6995            NaN                   Biopic     6.2   \n",
      "7120          130.0                   Comedy     5.2   \n",
      "7134            NaN             Variety show     5.6   \n",
      "7301           97.0                   Comedy     4.4   \n",
      "7563            NaN          Romantic comedy     6.2   \n",
      "7638            NaN            Action comedy     6.2   \n",
      "7676            NaN          Romantic comedy     5.0   \n",
      "8002            NaN             Comedy-drama     6.7   \n",
      "8493            NaN                    Drama     7.2   \n",
      "8496            NaN    Science fiction/Drama     6.3   \n",
      "8839            NaN              Crime drama     7.8   \n",
      "8958            NaN         Adventure/Comedy     5.5   \n",
      "9148            NaN          Horror thriller     3.2   \n",
      "9209            NaN          Horror-thriller     6.1   \n",
      "9352            NaN              Documentary     6.2   \n",
      "10284           NaN              Sports film     5.9   \n",
      "10305           NaN                    Drama     6.3   \n",
      "10341           NaN                 Thriller     6.1   \n",
      "10544           NaN                 Thriller     5.7   \n",
      "\n",
      "                                             description  \\\n",
      "46                                                   NaN   \n",
      "63                                                   NaN   \n",
      "122                                                  NaN   \n",
      "249                                                  NaN   \n",
      "298                                                  NaN   \n",
      "665                                                  NaN   \n",
      "979                                                  NaN   \n",
      "1997                                                 NaN   \n",
      "2040                                                 NaN   \n",
      "2099                                                 NaN   \n",
      "2189                                                 NaN   \n",
      "2288                                                 NaN   \n",
      "2465                                                 NaN   \n",
      "2607                                                 NaN   \n",
      "2774                                                 NaN   \n",
      "2827                                                 NaN   \n",
      "3100                                                 NaN   \n",
      "3262                                                 NaN   \n",
      "3503                                                 NaN   \n",
      "3714                                                 NaN   \n",
      "3795                                                 NaN   \n",
      "3834                                                 NaN   \n",
      "3943   A world-weary man's self-imposed home confinem...   \n",
      "4093                                                 NaN   \n",
      "4104                                                 NaN   \n",
      "4125                                                 NaN   \n",
      "4211                                                 NaN   \n",
      "4261                                                 NaN   \n",
      "4532                                                 NaN   \n",
      "4764   Photographer Estevan Oriol and artist Mister C...   \n",
      "4818                                                 NaN   \n",
      "6078                                                 NaN   \n",
      "6303                                                 NaN   \n",
      "6311                                                 NaN   \n",
      "6328                                                 NaN   \n",
      "6483                                                 NaN   \n",
      "6485                                                 NaN   \n",
      "6677                                                 NaN   \n",
      "6978                                                 NaN   \n",
      "6995                                                 NaN   \n",
      "7120   Sandy Wexler is a talent manager working in Lo...   \n",
      "7134                                                 NaN   \n",
      "7301   Father-to-be Alan is shocked to learn that he ...   \n",
      "7563                                                 NaN   \n",
      "7638                                                 NaN   \n",
      "7676                                                 NaN   \n",
      "8002                                                 NaN   \n",
      "8493                                                 NaN   \n",
      "8496                                                 NaN   \n",
      "8839                                                 NaN   \n",
      "8958                                                 NaN   \n",
      "9148                                                 NaN   \n",
      "9209                                                 NaN   \n",
      "9352                                                 NaN   \n",
      "10284                                                NaN   \n",
      "10305                                                NaN   \n",
      "10341                                                NaN   \n",
      "10544                                                NaN   \n",
      "\n",
      "                                                   stars    votes ratingLevel  \\\n",
      "46                                                   NaN      NaN         NaN   \n",
      "63                                                   NaN      NaN         NaN   \n",
      "122                                                  NaN      NaN         NaN   \n",
      "249                                                  NaN      NaN         NaN   \n",
      "298                                                  NaN      NaN         NaN   \n",
      "665                                                  NaN      NaN         NaN   \n",
      "979                                                  NaN      NaN         NaN   \n",
      "1997                                                 NaN      NaN         NaN   \n",
      "2040                                                 NaN      NaN         NaN   \n",
      "2099                                                 NaN      NaN         NaN   \n",
      "2189                                                 NaN      NaN         NaN   \n",
      "2288                                                 NaN      NaN         NaN   \n",
      "2465                                                 NaN      NaN         NaN   \n",
      "2607                                                 NaN      NaN         NaN   \n",
      "2774                                                 NaN      NaN         NaN   \n",
      "2827                                                 NaN      NaN         NaN   \n",
      "3100                                                 NaN      NaN         NaN   \n",
      "3262                                                 NaN      NaN         NaN   \n",
      "3503                                                 NaN      NaN         NaN   \n",
      "3714                                                 NaN      NaN         NaN   \n",
      "3795                                                 NaN      NaN         NaN   \n",
      "3834                                                 NaN      NaN         NaN   \n",
      "3943   ['Samit Basu, ', 'Shashanka Ghosh', '| ', '   ...   1668.0         NaN   \n",
      "4093                                                 NaN      NaN         NaN   \n",
      "4104                                                 NaN      NaN         NaN   \n",
      "4125                                                 NaN      NaN         NaN   \n",
      "4211                                                 NaN      NaN         NaN   \n",
      "4261                                                 NaN      NaN         NaN   \n",
      "4532                                                 NaN      NaN         NaN   \n",
      "4764   ['Estevan Oriol', '| ', '    Stars:', 'Estevan...   1837.0         NaN   \n",
      "4818                                                 NaN      NaN         NaN   \n",
      "6078                                                 NaN      NaN         NaN   \n",
      "6303                                                 NaN      NaN         NaN   \n",
      "6311                                                 NaN      NaN         NaN   \n",
      "6328                                                 NaN      NaN         NaN   \n",
      "6483                                                 NaN      NaN         NaN   \n",
      "6485                                                 NaN      NaN         NaN   \n",
      "6677                                                 NaN      NaN         NaN   \n",
      "6978                                                 NaN      NaN         NaN   \n",
      "6995                                                 NaN      NaN         NaN   \n",
      "7120   ['Steven Brill', '| ', '    Stars:', 'Adam San...  17257.0         NaN   \n",
      "7134                                                 NaN      NaN         NaN   \n",
      "7301   ['Michael Tiddes', '| ', '    Stars:', 'Marlon...   8687.0         NaN   \n",
      "7563                                                 NaN      NaN         NaN   \n",
      "7638                                                 NaN      NaN         NaN   \n",
      "7676                                                 NaN      NaN         NaN   \n",
      "8002                                                 NaN      NaN         NaN   \n",
      "8493                                                 NaN      NaN         NaN   \n",
      "8496                                                 NaN      NaN         NaN   \n",
      "8839                                                 NaN      NaN         NaN   \n",
      "8958                                                 NaN      NaN         NaN   \n",
      "9148                                                 NaN      NaN         NaN   \n",
      "9209                                                 NaN      NaN         NaN   \n",
      "9352                                                 NaN      NaN         NaN   \n",
      "10284                                                NaN      NaN         NaN   \n",
      "10305                                                NaN      NaN         NaN   \n",
      "10341                                                NaN      NaN         NaN   \n",
      "10544                                                NaN      NaN         NaN   \n",
      "\n",
      "       ratingDescription  user rating size      language    premiere  runtime  \n",
      "46                   NaN               NaN       English   10/7/2016    100.0  \n",
      "63                   NaN               NaN       English  10/20/2017    102.0  \n",
      "122                  NaN               NaN       Italian   12/7/2018     95.0  \n",
      "249                  NaN               NaN       English   4/29/2020     82.0  \n",
      "298                  NaN               NaN         Hindi  12/24/2020    108.0  \n",
      "665                  NaN               NaN       English   5/21/2021    148.0  \n",
      "979                  NaN               NaN  English/Akan  10/16/2015    136.0  \n",
      "1997                 NaN               NaN       Spanish   2/26/2021    102.0  \n",
      "2040                 NaN               NaN       English  11/24/2017    114.0  \n",
      "2099                 NaN               NaN       English  11/27/2020     80.0  \n",
      "2189                 NaN               NaN       English   10/4/2020     83.0  \n",
      "2288                 NaN               NaN       English   3/17/2017     94.0  \n",
      "2465                 NaN               NaN       English  11/22/2020     98.0  \n",
      "2607                 NaN               NaN        French   4/17/2020     80.0  \n",
      "2774                 NaN               NaN       English   9/10/2019     96.0  \n",
      "2827                 NaN               NaN       English   9/13/2016     24.0  \n",
      "3100                 NaN               NaN        German    9/2/2020     92.0  \n",
      "3262                 NaN               NaN       English  10/16/2019     21.0  \n",
      "3503                 NaN               NaN       Spanish  10/27/2020     94.0  \n",
      "3714                 NaN               NaN       English   9/12/2017     39.0  \n",
      "3795                 NaN               NaN       English  10/30/2020     93.0  \n",
      "3834                 NaN               NaN       English   11/1/2019     85.0  \n",
      "3943                 NaN               NaN         Hindi  11/15/2019    104.0  \n",
      "4093                 NaN               NaN       English   5/25/2018     94.0  \n",
      "4104                 NaN               NaN       English  11/20/2020     12.0  \n",
      "4125                 NaN               NaN       English    2/3/2017     87.0  \n",
      "4211                 NaN               NaN       Spanish   5/28/2020    116.0  \n",
      "4261                 NaN               NaN        German   2/14/2020    113.0  \n",
      "4532                 NaN               NaN    Indonesian   1/28/2021     90.0  \n",
      "4764                 NaN               NaN       English   4/10/2020     92.0  \n",
      "4818                 NaN               NaN    Portuguese   5/19/2017    100.0  \n",
      "6078                 NaN               NaN       English  10/13/2020     47.0  \n",
      "6303                 NaN               NaN       Turkish   3/12/2021     97.0  \n",
      "6311                 NaN               NaN       English   3/23/2018     73.0  \n",
      "6328                 NaN               NaN        French   2/22/2019     83.0  \n",
      "6483                 NaN               NaN    Portuguese   12/3/2019     46.0  \n",
      "6485                 NaN               NaN    Portuguese  12/21/2018     44.0  \n",
      "6677                 NaN               NaN         Hindi  11/30/2018    118.0  \n",
      "6978                 NaN               NaN       Bengali  10/15/2020     41.0  \n",
      "6995                 NaN               NaN       English   3/23/2018     98.0  \n",
      "7120                 NaN               NaN       English   4/14/2017    131.0  \n",
      "7134                 NaN               NaN       English  10/27/2020     49.0  \n",
      "7301                 NaN               NaN       English   8/16/2019     99.0  \n",
      "7563                 NaN               NaN       English   4/19/2019     92.0  \n",
      "7638                 NaN               NaN       English    3/6/2020    111.0  \n",
      "7676                 NaN               NaN        Polish   2/11/2021    102.0  \n",
      "8002                 NaN               NaN       English   7/29/2016    111.0  \n",
      "8493                 NaN               NaN       Marathi   4/30/2021    129.0  \n",
      "8496                 NaN               NaN       English   3/31/2017    102.0  \n",
      "8839                 NaN               NaN       English  11/27/2019    209.0  \n",
      "8958                 NaN               NaN       English    7/6/2018     83.0  \n",
      "9148                 NaN               NaN       English   1/19/2018     94.0  \n",
      "9209                 NaN               NaN       English   5/24/2019     90.0  \n",
      "9352                 NaN               NaN       English   4/27/2018    104.0  \n",
      "10284                NaN               NaN       Italian   3/20/2020    108.0  \n",
      "10305                NaN               NaN       English   3/27/2020    103.0  \n",
      "10341                NaN               NaN       Spanish   8/28/2020     96.0  \n",
      "10544                NaN               NaN       English    2/1/2019    112.0  \n"
     ]
    }
   ],
   "source": [
    "# Display duplicate rows\n",
    "print(duplicates)"
   ]
  },
  {
   "cell_type": "code",
   "execution_count": null,
   "id": "4236701a-2e0e-4277-8f90-df1d1d17f1c2",
   "metadata": {},
   "outputs": [],
   "source": []
  }
 ],
 "metadata": {
  "kernelspec": {
   "display_name": "Python 3 (ipykernel)",
   "language": "python",
   "name": "python3"
  },
  "language_info": {
   "codemirror_mode": {
    "name": "ipython",
    "version": 3
   },
   "file_extension": ".py",
   "mimetype": "text/x-python",
   "name": "python",
   "nbconvert_exporter": "python",
   "pygments_lexer": "ipython3",
   "version": "3.12.4"
  }
 },
 "nbformat": 4,
 "nbformat_minor": 5
}

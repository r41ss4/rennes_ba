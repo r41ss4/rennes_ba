{
 "cells": [
  {
   "cell_type": "markdown",
   "id": "9c7b16d8-a213-4cb5-aaab-cb3507ddcdcd",
   "metadata": {},
   "source": [
    "## Cleaning and Merging the datasets"
   ]
  },
  {
   "cell_type": "code",
   "execution_count": 3,
   "id": "cf751ec0-c5e4-4656-a5e0-570677c99976",
   "metadata": {},
   "outputs": [],
   "source": [
    "# Import necessary libraries\n",
    "import pandas as pd"
   ]
  },
  {
   "cell_type": "code",
   "execution_count": 8,
   "id": "9d5a3384-378c-472d-b2e1-b9c722a05c7f",
   "metadata": {},
   "outputs": [],
   "source": [
    "# Load the datasets using raw string notation to avoid escape character issues\n",
    "data1 = pd.read_csv(r'C:\\Users\\saman\\Downloads\\FP_BA_Netflix\\clean_datan1.csv')\n",
    "data2 = pd.read_csv(r'C:\\Users\\saman\\Downloads\\FP_BA_Netflix\\clean_datan2.csv')\n",
    "data3 = pd.read_csv(r'C:\\Users\\saman\\Downloads\\FP_BA_Netflix\\clean_datan3.csv')"
   ]
  },
  {
   "cell_type": "code",
   "execution_count": 10,
   "id": "6f402130-9c0c-4e62-b53a-25dfd32508b6",
   "metadata": {},
   "outputs": [
    {
     "name": "stdout",
     "output_type": "stream",
     "text": [
      "Data 1:\n",
      "                    title  year certificate  duration_min  \\\n",
      "0               Cobra Kai  2018       TV-14          30.0   \n",
      "1               The Crown  2016       TV-MA          58.0   \n",
      "2        Better Call Saul  2015       TV-MA          46.0   \n",
      "3           Devil in Ohio  2022       TV-MA         356.0   \n",
      "4  Cyberpunk: Edgerunners  2022       TV-MA          24.0   \n",
      "\n",
      "                          genre  rating  \\\n",
      "0         Action, Comedy, Drama     8.5   \n",
      "1     Biography, Drama, History     8.7   \n",
      "2                  Crime, Drama     8.9   \n",
      "3        Drama, Horror, Mystery     5.9   \n",
      "4  Animation, Action, Adventure     8.6   \n",
      "\n",
      "                                         description  \\\n",
      "0  Decades after their 1984 All Valley Karate Tou...   \n",
      "1  Follows the political rivalries and romance of...   \n",
      "2  The trials and tribulations of criminal lawyer...   \n",
      "3  When a psychiatrist shelters a mysterious cult...   \n",
      "4  A Street Kid trying to survive in a technology...   \n",
      "\n",
      "                                               stars     votes  \n",
      "0  ['Ralph Macchio, ', 'William Zabka, ', 'Courtn...  177031.0  \n",
      "1  ['Claire Foy, ', 'Olivia Colman, ', 'Imelda St...  199885.0  \n",
      "2  ['Bob Odenkirk, ', 'Rhea Seehorn, ', 'Jonathan...  501384.0  \n",
      "3  ['Emily Deschanel, ', 'Sam Jaeger, ', 'Gerardo...    9773.0  \n",
      "4  ['Zach Aguilar, ', 'Kenichiro Ohashi, ', 'Emi ...   15413.0  \n",
      "\n",
      "Data 2:\n",
      "                   title rating  \\\n",
      "0           White Chicks  PG-13   \n",
      "1    Lucky Number Slevin      R   \n",
      "2         Grey's Anatomy  TV-14   \n",
      "3           Prison Break  TV-14   \n",
      "4  How I Met Your Mother  TV-PG   \n",
      "\n",
      "                                         ratingLevel  ratingDescription  \\\n",
      "0  crude and sexual humor, language and some drug...                 80   \n",
      "1  strong violence, sexual content and adult lang...                100   \n",
      "2  Parents strongly cautioned. May be unsuitable ...                 90   \n",
      "3  Parents strongly cautioned. May be unsuitable ...                 90   \n",
      "4  Parental guidance suggested. May not be suitab...                 70   \n",
      "\n",
      "   release year  user rating score  user rating size  \n",
      "0          2004          82.000000                80  \n",
      "1          2006          81.398438                82  \n",
      "2          2016          98.000000                80  \n",
      "3          2008          98.000000                80  \n",
      "4          2014          94.000000                80  \n",
      "\n",
      "Data 3:\n",
      "               title            genre language  imdb_score    premiere  \\\n",
      "0   Notes for My Son            Drama  Spanish         6.3  11/24/2020   \n",
      "1   To Each, Her Own  Romantic comedy   French         5.3   6/24/2018   \n",
      "2      The Lovebirds  Romantic comedy  English         6.1   5/22/2020   \n",
      "3     The Perfection  Horror-thriller  English         6.1   5/24/2019   \n",
      "4  Happy Anniversary  Romantic comedy  English         5.8   3/30/2018   \n",
      "\n",
      "   runtime        year  \n",
      "0       83  2020-01-01  \n",
      "1       95  2018-01-01  \n",
      "2       87  2020-01-01  \n",
      "3       90  2019-01-01  \n",
      "4       78  2018-01-01  \n"
     ]
    }
   ],
   "source": [
    "# Display the first few rows of each dataset to understand their structure\n",
    "print(\"Data 1:\")\n",
    "print(data1.head())\n",
    "\n",
    "print(\"\\nData 2:\")\n",
    "print(data2.head())\n",
    "\n",
    "print(\"\\nData 3:\")\n",
    "print(data3.head())"
   ]
  },
  {
   "cell_type": "code",
   "execution_count": 12,
   "id": "93c3e235-d9f1-4296-b491-2557e7591b42",
   "metadata": {},
   "outputs": [],
   "source": [
    "# Convert the 'year' column to a datetime object if it's not already for data3\n",
    "data3['year'] = pd.to_datetime(data3['year'], errors='coerce')  # Coerce invalid formats to NaT"
   ]
  },
  {
   "cell_type": "code",
   "execution_count": 14,
   "id": "7f9e430f-394a-4cb9-9aae-18ef25422790",
   "metadata": {},
   "outputs": [],
   "source": [
    "# Extract only the year part\n",
    "data3['year'] = data3['year'].dt.year.astype(str)"
   ]
  },
  {
   "cell_type": "code",
   "execution_count": 16,
   "id": "835e4de8-b18e-4bae-a1ac-38254216c80e",
   "metadata": {},
   "outputs": [],
   "source": [
    "# Save the cleaned data3 for verification if needed\n",
    "data3.to_csv(r'C:\\Users\\saman\\Downloads\\FP_BA_Netflix\\clean_datan3.csv', index=False)"
   ]
  },
  {
   "cell_type": "code",
   "execution_count": 18,
   "id": "7c4b6934-7c49-4d5a-8d19-fd6bad221dfa",
   "metadata": {},
   "outputs": [
    {
     "name": "stdout",
     "output_type": "stream",
     "text": [
      "               title  year\n",
      "0   Notes for My Son  2020\n",
      "1   To Each, Her Own  2018\n",
      "2      The Lovebirds  2020\n",
      "3     The Perfection  2019\n",
      "4  Happy Anniversary  2018\n"
     ]
    }
   ],
   "source": [
    "# Preview the cleaned year column\n",
    "print(data3[['title', 'year']].head())"
   ]
  },
  {
   "cell_type": "code",
   "execution_count": 20,
   "id": "8554e92e-05fb-419d-8bea-e83efa6b6555",
   "metadata": {},
   "outputs": [],
   "source": [
    "# Transform the 'rating score' column for data2\n",
    "data2['rating'] = (data2['user rating score'] / 10).round(1)"
   ]
  },
  {
   "cell_type": "code",
   "execution_count": 22,
   "id": "f1c6786f-25da-491c-acf5-49526e02cb51",
   "metadata": {},
   "outputs": [],
   "source": [
    "# Drop the old 'user rating score' column if no longer needed\n",
    "data2 = data2.drop(columns=['user rating score'])"
   ]
  },
  {
   "cell_type": "code",
   "execution_count": 24,
   "id": "6027071e-2dc1-40cd-9128-5ec78fcf684f",
   "metadata": {},
   "outputs": [],
   "source": [
    "# Save the updated dataset for verification if needed\n",
    "data2.to_csv(r'C:\\Users\\saman\\Downloads\\FP_BA_Netflix\\clean_datan2.csv', index=False)"
   ]
  },
  {
   "cell_type": "code",
   "execution_count": 26,
   "id": "dd00d647-09f3-47ed-89d1-07cccd2ae8b2",
   "metadata": {},
   "outputs": [
    {
     "name": "stdout",
     "output_type": "stream",
     "text": [
      "                   title  rating\n",
      "0           White Chicks     8.2\n",
      "1    Lucky Number Slevin     8.1\n",
      "2         Grey's Anatomy     9.8\n",
      "3           Prison Break     9.8\n",
      "4  How I Met Your Mother     9.4\n"
     ]
    }
   ],
   "source": [
    "# Preview the new rate column\n",
    "print(data2[['title', 'rating']].head())"
   ]
  },
  {
   "cell_type": "code",
   "execution_count": 28,
   "id": "7af94b4f-0174-41ad-bb93-41494d2b0b7b",
   "metadata": {},
   "outputs": [],
   "source": [
    "# Rename the column 'imdb_score' to 'rating' from data 3\n",
    "data3.rename(columns={'imdb_score': 'rating'}, inplace=True)"
   ]
  },
  {
   "cell_type": "code",
   "execution_count": 30,
   "id": "d98ac6cc-9b0c-449e-beef-4c9a52ab194c",
   "metadata": {},
   "outputs": [],
   "source": [
    "# Save the updated dataset for verification if needed\n",
    "data3.to_csv(r'C:\\Users\\saman\\Downloads\\FP_BA_Netflix\\clean_datan3.csv', index=False)"
   ]
  },
  {
   "cell_type": "code",
   "execution_count": 32,
   "id": "88e6454f-836e-4645-a41c-1f1fc5a408de",
   "metadata": {},
   "outputs": [
    {
     "name": "stdout",
     "output_type": "stream",
     "text": [
      "               title            genre language  rating    premiere  runtime  \\\n",
      "0   Notes for My Son            Drama  Spanish     6.3  11/24/2020       83   \n",
      "1   To Each, Her Own  Romantic comedy   French     5.3   6/24/2018       95   \n",
      "2      The Lovebirds  Romantic comedy  English     6.1   5/22/2020       87   \n",
      "3     The Perfection  Horror-thriller  English     6.1   5/24/2019       90   \n",
      "4  Happy Anniversary  Romantic comedy  English     5.8   3/30/2018       78   \n",
      "\n",
      "   year  \n",
      "0  2020  \n",
      "1  2018  \n",
      "2  2020  \n",
      "3  2019  \n",
      "4  2018  \n"
     ]
    }
   ],
   "source": [
    "# Preview the new rate column\n",
    "print(data3.head())"
   ]
  },
  {
   "cell_type": "code",
   "execution_count": 40,
   "id": "2fe755bb-c9b4-4c1b-9a3d-c5a296429216",
   "metadata": {},
   "outputs": [],
   "source": [
    "# Rename the column 'release year' to 'year' from data 2\n",
    "data2.rename(columns={'release year': 'year'}, inplace=True)"
   ]
  },
  {
   "cell_type": "code",
   "execution_count": 42,
   "id": "f0226ffa-c5df-485b-8831-94aff7ae164c",
   "metadata": {},
   "outputs": [],
   "source": [
    "# Save the updated dataset for verification if needed\n",
    "data2.to_csv(r'C:\\Users\\saman\\Downloads\\FP_BA_Netflix\\clean_datan2.csv', index=False)"
   ]
  },
  {
   "cell_type": "code",
   "execution_count": 44,
   "id": "0c607b32-cc16-45ba-a280-09abc13b51fc",
   "metadata": {},
   "outputs": [
    {
     "name": "stdout",
     "output_type": "stream",
     "text": [
      "                   title  rating  \\\n",
      "0           White Chicks     8.2   \n",
      "1    Lucky Number Slevin     8.1   \n",
      "2         Grey's Anatomy     9.8   \n",
      "3           Prison Break     9.8   \n",
      "4  How I Met Your Mother     9.4   \n",
      "\n",
      "                                         ratingLevel  ratingDescription  year  \\\n",
      "0  crude and sexual humor, language and some drug...                 80  2004   \n",
      "1  strong violence, sexual content and adult lang...                100  2006   \n",
      "2  Parents strongly cautioned. May be unsuitable ...                 90  2016   \n",
      "3  Parents strongly cautioned. May be unsuitable ...                 90  2008   \n",
      "4  Parental guidance suggested. May not be suitab...                 70  2014   \n",
      "\n",
      "   user rating size  \n",
      "0                80  \n",
      "1                82  \n",
      "2                80  \n",
      "3                80  \n",
      "4                80  \n"
     ]
    }
   ],
   "source": [
    "# Preview the new year column\n",
    "print(data2.head())"
   ]
  },
  {
   "cell_type": "code",
   "execution_count": 46,
   "id": "6bc36dbf-c622-4d01-ab51-9f804f328f02",
   "metadata": {},
   "outputs": [
    {
     "name": "stdout",
     "output_type": "stream",
     "text": [
      "Data 1:\n",
      "                    title  year certificate  duration_min  \\\n",
      "0               Cobra Kai  2018       TV-14          30.0   \n",
      "1               The Crown  2016       TV-MA          58.0   \n",
      "2        Better Call Saul  2015       TV-MA          46.0   \n",
      "3           Devil in Ohio  2022       TV-MA         356.0   \n",
      "4  Cyberpunk: Edgerunners  2022       TV-MA          24.0   \n",
      "\n",
      "                          genre  rating  \\\n",
      "0         Action, Comedy, Drama     8.5   \n",
      "1     Biography, Drama, History     8.7   \n",
      "2                  Crime, Drama     8.9   \n",
      "3        Drama, Horror, Mystery     5.9   \n",
      "4  Animation, Action, Adventure     8.6   \n",
      "\n",
      "                                         description  \\\n",
      "0  Decades after their 1984 All Valley Karate Tou...   \n",
      "1  Follows the political rivalries and romance of...   \n",
      "2  The trials and tribulations of criminal lawyer...   \n",
      "3  When a psychiatrist shelters a mysterious cult...   \n",
      "4  A Street Kid trying to survive in a technology...   \n",
      "\n",
      "                                               stars     votes  \n",
      "0  ['Ralph Macchio, ', 'William Zabka, ', 'Courtn...  177031.0  \n",
      "1  ['Claire Foy, ', 'Olivia Colman, ', 'Imelda St...  199885.0  \n",
      "2  ['Bob Odenkirk, ', 'Rhea Seehorn, ', 'Jonathan...  501384.0  \n",
      "3  ['Emily Deschanel, ', 'Sam Jaeger, ', 'Gerardo...    9773.0  \n",
      "4  ['Zach Aguilar, ', 'Kenichiro Ohashi, ', 'Emi ...   15413.0  \n",
      "\n",
      "Data 2:\n",
      "                   title  rating  \\\n",
      "0           White Chicks     8.2   \n",
      "1    Lucky Number Slevin     8.1   \n",
      "2         Grey's Anatomy     9.8   \n",
      "3           Prison Break     9.8   \n",
      "4  How I Met Your Mother     9.4   \n",
      "\n",
      "                                         ratingLevel  ratingDescription  year  \\\n",
      "0  crude and sexual humor, language and some drug...                 80  2004   \n",
      "1  strong violence, sexual content and adult lang...                100  2006   \n",
      "2  Parents strongly cautioned. May be unsuitable ...                 90  2016   \n",
      "3  Parents strongly cautioned. May be unsuitable ...                 90  2008   \n",
      "4  Parental guidance suggested. May not be suitab...                 70  2014   \n",
      "\n",
      "   user rating size  \n",
      "0                80  \n",
      "1                82  \n",
      "2                80  \n",
      "3                80  \n",
      "4                80  \n",
      "\n",
      "Data 3:\n",
      "               title            genre language  rating    premiere  runtime  \\\n",
      "0   Notes for My Son            Drama  Spanish     6.3  11/24/2020       83   \n",
      "1   To Each, Her Own  Romantic comedy   French     5.3   6/24/2018       95   \n",
      "2      The Lovebirds  Romantic comedy  English     6.1   5/22/2020       87   \n",
      "3     The Perfection  Horror-thriller  English     6.1   5/24/2019       90   \n",
      "4  Happy Anniversary  Romantic comedy  English     5.8   3/30/2018       78   \n",
      "\n",
      "   year  \n",
      "0  2020  \n",
      "1  2018  \n",
      "2  2020  \n",
      "3  2019  \n",
      "4  2018  \n"
     ]
    }
   ],
   "source": [
    "# Display the first few rows of each dataset to understand their structure\n",
    "print(\"Data 1:\")\n",
    "print(data1.head())\n",
    "\n",
    "print(\"\\nData 2:\")\n",
    "print(data2.head())\n",
    "\n",
    "print(\"\\nData 3:\")\n",
    "print(data3.head())"
   ]
  },
  {
   "cell_type": "code",
   "execution_count": 50,
   "id": "9811d46d-669f-445f-8295-1b3981cda16d",
   "metadata": {},
   "outputs": [
    {
     "name": "stdout",
     "output_type": "stream",
     "text": [
      "Data 1:\n",
      "title           0\n",
      "year            0\n",
      "certificate     0\n",
      "duration_min    0\n",
      "genre           0\n",
      "rating          0\n",
      "description     0\n",
      "stars           0\n",
      "votes           0\n",
      "dtype: int64\n",
      "\n",
      "Data 2:\n",
      "title                0\n",
      "rating               0\n",
      "ratingLevel          0\n",
      "ratingDescription    0\n",
      "year                 0\n",
      "user rating size     0\n",
      "dtype: int64\n",
      "\n",
      "Data 3:\n",
      "title       0\n",
      "genre       0\n",
      "language    0\n",
      "rating      0\n",
      "premiere    0\n",
      "runtime     0\n",
      "year        0\n",
      "dtype: int64\n"
     ]
    }
   ],
   "source": [
    "# Check for missing values\n",
    "print(\"Data 1:\")\n",
    "print(data1.isnull().sum())\n",
    "\n",
    "print(\"\\nData 2:\")\n",
    "print(data2.isnull().sum())\n",
    "\n",
    "print(\"\\nData 3:\")\n",
    "print(data3.isnull().sum())"
   ]
  },
  {
   "cell_type": "code",
   "execution_count": 52,
   "id": "d7064795-767b-4fba-b19d-9cabf374300d",
   "metadata": {},
   "outputs": [],
   "source": [
    "# Step 1: Merge Dataset 1 and Dataset 2 on 'title' , 'year' and 'rating'\n",
    "merged_1_2 = pd.merge(data1, data2, on=['title', 'year' , 'rating'], how='outer', suffixes=('_data1', '_data2'))"
   ]
  },
  {
   "cell_type": "code",
   "execution_count": 54,
   "id": "5e894339-405b-495f-a42c-ea64d7773fb7",
   "metadata": {},
   "outputs": [],
   "source": [
    "# Convert 'year' column to int in both DataFrames to ensure they are of the same type\n",
    "merged_1_2['year'] = merged_1_2['year'].astype(int)  # Convert to int\n",
    "data3['year'] = data3['year'].astype(int)  # Convert to int"
   ]
  },
  {
   "cell_type": "code",
   "execution_count": 56,
   "id": "7d6d81d4-bfd1-447a-9ef8-f26d2f594704",
   "metadata": {},
   "outputs": [],
   "source": [
    "# Step 2: Merge the result with Dataset 3 on 'title' , 'year' , 'rating' and 'genre'\n",
    "final_merged_data = pd.merge(merged_1_2, data3, on=['title', 'year', 'rating', 'genre'], how='outer', suffixes=('', '_data3'))"
   ]
  },
  {
   "cell_type": "code",
   "execution_count": 58,
   "id": "8a0eb60e-39b9-4d13-bafd-a1a428ca1d35",
   "metadata": {},
   "outputs": [],
   "source": [
    "# Save the final merged dataset\n",
    "output_path = r'C:\\Users\\saman\\Downloads\\FP_BA_Netflix\\final_merged_data.csv'\n",
    "final_merged_data.to_csv(output_path, index=False)"
   ]
  },
  {
   "cell_type": "code",
   "execution_count": 60,
   "id": "0ec76bb8-17b0-47b7-a891-4c398a88d026",
   "metadata": {},
   "outputs": [
    {
     "name": "stdout",
     "output_type": "stream",
     "text": [
      "                           title  year certificate  duration_min  \\\n",
      "0                       #ABtalks  2018       TV-MA      73.77162   \n",
      "1                         #Alive  2020       TV-MA      98.00000   \n",
      "2  #AnneFrank - Parallel Stories  2019       TV-MA      92.00000   \n",
      "3                       #BlackAF  2020       TV-MA      36.00000   \n",
      "4            #FriendButMarried 2  2020       TV-14     100.00000   \n",
      "\n",
      "                      genre  rating  \\\n",
      "0                    Comedy     9.1   \n",
      "1     Action, Drama, Horror     6.3   \n",
      "2            Drama, History     6.5   \n",
      "3                    Comedy     6.7   \n",
      "4  Biography, Comedy, Drama     6.9   \n",
      "\n",
      "                                         description  \\\n",
      "0  #ABtalks is an interview show hosted by Anas B...   \n",
      "1  The rapid spread of an unknown infection has l...   \n",
      "2  It is based on five women who did survive the ...   \n",
      "3  A father takes an irreverent and honest approa...   \n",
      "4  Ayudia (Mawar De Jongh) is not satisfied enoug...   \n",
      "\n",
      "                                               stars    votes ratingLevel  \\\n",
      "0  ['Karen Wazen, ', 'Deema Al Asadi, ', 'Hala Ab...     15.0         NaN   \n",
      "1  ['Il Cho', '| ', '    Stars:', 'Yoo Ah-in, ', ...  39285.0         NaN   \n",
      "2  ['Sabina Fedeli, ', 'Anna Migotto', '| ', '   ...   1569.0         NaN   \n",
      "3  ['Rashida Jones, ', 'Kenya Barris, ', 'Iman Be...   4887.0         NaN   \n",
      "4  ['Rako Prijanto', '| ', '    Stars:', 'Adipati...    317.0         NaN   \n",
      "\n",
      "   ratingDescription  user rating size language premiere  runtime  \n",
      "0                NaN               NaN      NaN      NaN      NaN  \n",
      "1                NaN               NaN      NaN      NaN      NaN  \n",
      "2                NaN               NaN      NaN      NaN      NaN  \n",
      "3                NaN               NaN      NaN      NaN      NaN  \n",
      "4                NaN               NaN      NaN      NaN      NaN  \n"
     ]
    }
   ],
   "source": [
    "# Preview the new dataset\n",
    "print(final_merged_data.head())"
   ]
  },
  {
   "cell_type": "code",
   "execution_count": 62,
   "id": "e9fbe49b-474f-4cbf-8139-63670c3cfef9",
   "metadata": {},
   "outputs": [
    {
     "name": "stdout",
     "output_type": "stream",
     "text": [
      "title                    0\n",
      "year                     0\n",
      "certificate           1092\n",
      "duration_min          1092\n",
      "genre                  498\n",
      "rating                   0\n",
      "description           1092\n",
      "stars                 1092\n",
      "votes                 1092\n",
      "ratingLevel          10550\n",
      "ratingDescription    10550\n",
      "user rating size     10550\n",
      "language             10412\n",
      "premiere             10412\n",
      "runtime              10412\n",
      "dtype: int64\n"
     ]
    }
   ],
   "source": [
    "# Check for missing values\n",
    "print(final_merged_data.isnull().sum())"
   ]
  },
  {
   "cell_type": "code",
   "execution_count": 64,
   "id": "6105468d-bfac-4878-a8b1-71b89d034f80",
   "metadata": {},
   "outputs": [],
   "source": [
    "# Remove '#' from the 'title' column in the merged dataset\n",
    "final_merged_data['title'] = final_merged_data['title'].str.replace('#', '', regex=False)"
   ]
  },
  {
   "cell_type": "code",
   "execution_count": 66,
   "id": "814d227f-3fa5-4e83-b6c9-1962fc660c7f",
   "metadata": {},
   "outputs": [],
   "source": [
    "# Save the updated dataset\n",
    "output_path = r'C:\\Users\\saman\\Downloads\\FP_BA_Netflix\\final_merged_data.csv'\n",
    "final_merged_data.to_csv(output_path, index=False)"
   ]
  },
  {
   "cell_type": "code",
   "execution_count": 68,
   "id": "7ea2cb7d-755a-4046-8f19-a059b1f88b33",
   "metadata": {},
   "outputs": [
    {
     "name": "stdout",
     "output_type": "stream",
     "text": [
      "                          title  year certificate  duration_min  \\\n",
      "0                       ABtalks  2018       TV-MA      73.77162   \n",
      "1                         Alive  2020       TV-MA      98.00000   \n",
      "2  AnneFrank - Parallel Stories  2019       TV-MA      92.00000   \n",
      "3                       BlackAF  2020       TV-MA      36.00000   \n",
      "4            FriendButMarried 2  2020       TV-14     100.00000   \n",
      "\n",
      "                      genre  rating  \\\n",
      "0                    Comedy     9.1   \n",
      "1     Action, Drama, Horror     6.3   \n",
      "2            Drama, History     6.5   \n",
      "3                    Comedy     6.7   \n",
      "4  Biography, Comedy, Drama     6.9   \n",
      "\n",
      "                                         description  \\\n",
      "0  #ABtalks is an interview show hosted by Anas B...   \n",
      "1  The rapid spread of an unknown infection has l...   \n",
      "2  It is based on five women who did survive the ...   \n",
      "3  A father takes an irreverent and honest approa...   \n",
      "4  Ayudia (Mawar De Jongh) is not satisfied enoug...   \n",
      "\n",
      "                                               stars    votes ratingLevel  \\\n",
      "0  ['Karen Wazen, ', 'Deema Al Asadi, ', 'Hala Ab...     15.0         NaN   \n",
      "1  ['Il Cho', '| ', '    Stars:', 'Yoo Ah-in, ', ...  39285.0         NaN   \n",
      "2  ['Sabina Fedeli, ', 'Anna Migotto', '| ', '   ...   1569.0         NaN   \n",
      "3  ['Rashida Jones, ', 'Kenya Barris, ', 'Iman Be...   4887.0         NaN   \n",
      "4  ['Rako Prijanto', '| ', '    Stars:', 'Adipati...    317.0         NaN   \n",
      "\n",
      "   ratingDescription  user rating size language premiere  runtime  \n",
      "0                NaN               NaN      NaN      NaN      NaN  \n",
      "1                NaN               NaN      NaN      NaN      NaN  \n",
      "2                NaN               NaN      NaN      NaN      NaN  \n",
      "3                NaN               NaN      NaN      NaN      NaN  \n",
      "4                NaN               NaN      NaN      NaN      NaN  \n"
     ]
    }
   ],
   "source": [
    "# Preview the new dataset\n",
    "print(final_merged_data.head())"
   ]
  },
  {
   "cell_type": "code",
   "execution_count": 72,
   "id": "1fe114ca-8686-4ef5-8c80-e70196e5bdfa",
   "metadata": {},
   "outputs": [],
   "source": [
    "# Remove '#' from the 'description' column in the merged dataset\n",
    "final_merged_data['description'] = final_merged_data['description'].str.replace('#', '', regex=False)"
   ]
  },
  {
   "cell_type": "code",
   "execution_count": 74,
   "id": "7a424660-4a71-4016-839b-fb787e75916f",
   "metadata": {},
   "outputs": [],
   "source": [
    "# Save the updated dataset\n",
    "output_path = r'C:\\Users\\saman\\Downloads\\FP_BA_Netflix\\final_merged_data.csv'\n",
    "final_merged_data.to_csv(output_path, index=False)"
   ]
  },
  {
   "cell_type": "code",
   "execution_count": 76,
   "id": "0d5dd54a-9779-4e4b-b062-776fae8ae48b",
   "metadata": {},
   "outputs": [
    {
     "name": "stdout",
     "output_type": "stream",
     "text": [
      "                          title  year certificate  duration_min  \\\n",
      "0                       ABtalks  2018       TV-MA      73.77162   \n",
      "1                         Alive  2020       TV-MA      98.00000   \n",
      "2  AnneFrank - Parallel Stories  2019       TV-MA      92.00000   \n",
      "3                       BlackAF  2020       TV-MA      36.00000   \n",
      "4            FriendButMarried 2  2020       TV-14     100.00000   \n",
      "\n",
      "                      genre  rating  \\\n",
      "0                    Comedy     9.1   \n",
      "1     Action, Drama, Horror     6.3   \n",
      "2            Drama, History     6.5   \n",
      "3                    Comedy     6.7   \n",
      "4  Biography, Comedy, Drama     6.9   \n",
      "\n",
      "                                         description  \\\n",
      "0  ABtalks is an interview show hosted by Anas Bu...   \n",
      "1  The rapid spread of an unknown infection has l...   \n",
      "2  It is based on five women who did survive the ...   \n",
      "3  A father takes an irreverent and honest approa...   \n",
      "4  Ayudia (Mawar De Jongh) is not satisfied enoug...   \n",
      "\n",
      "                                               stars    votes ratingLevel  \\\n",
      "0  ['Karen Wazen, ', 'Deema Al Asadi, ', 'Hala Ab...     15.0         NaN   \n",
      "1  ['Il Cho', '| ', '    Stars:', 'Yoo Ah-in, ', ...  39285.0         NaN   \n",
      "2  ['Sabina Fedeli, ', 'Anna Migotto', '| ', '   ...   1569.0         NaN   \n",
      "3  ['Rashida Jones, ', 'Kenya Barris, ', 'Iman Be...   4887.0         NaN   \n",
      "4  ['Rako Prijanto', '| ', '    Stars:', 'Adipati...    317.0         NaN   \n",
      "\n",
      "   ratingDescription  user rating size language premiere  runtime  \n",
      "0                NaN               NaN      NaN      NaN      NaN  \n",
      "1                NaN               NaN      NaN      NaN      NaN  \n",
      "2                NaN               NaN      NaN      NaN      NaN  \n",
      "3                NaN               NaN      NaN      NaN      NaN  \n",
      "4                NaN               NaN      NaN      NaN      NaN  \n"
     ]
    }
   ],
   "source": [
    "# Preview the new dataset\n",
    "print(final_merged_data.head())"
   ]
  },
  {
   "cell_type": "markdown",
   "id": "8b5114a1-da8c-4b69-b69e-adb1768bed63",
   "metadata": {},
   "source": [
    "## First Exploratory Data Analysis (EDA)"
   ]
  },
  {
   "cell_type": "code",
   "execution_count": 79,
   "id": "8089e411-e0a2-460d-9b72-26587e0a8477",
   "metadata": {},
   "outputs": [],
   "source": [
    "import numpy as np\n",
    "import matplotlib.pyplot as plt\n",
    "import seaborn as sns"
   ]
  },
  {
   "cell_type": "code",
   "execution_count": 81,
   "id": "8bd64243-1be3-48b5-82b9-49ea4a6dd706",
   "metadata": {},
   "outputs": [
    {
     "name": "stdout",
     "output_type": "stream",
     "text": [
      "                          title  year certificate  duration_min  \\\n",
      "0                       ABtalks  2018       TV-MA      73.77162   \n",
      "1                         Alive  2020       TV-MA      98.00000   \n",
      "2  AnneFrank - Parallel Stories  2019       TV-MA      92.00000   \n",
      "3                       BlackAF  2020       TV-MA      36.00000   \n",
      "4            FriendButMarried 2  2020       TV-14     100.00000   \n",
      "\n",
      "                      genre  rating  \\\n",
      "0                    Comedy     9.1   \n",
      "1     Action, Drama, Horror     6.3   \n",
      "2            Drama, History     6.5   \n",
      "3                    Comedy     6.7   \n",
      "4  Biography, Comedy, Drama     6.9   \n",
      "\n",
      "                                         description  \\\n",
      "0  ABtalks is an interview show hosted by Anas Bu...   \n",
      "1  The rapid spread of an unknown infection has l...   \n",
      "2  It is based on five women who did survive the ...   \n",
      "3  A father takes an irreverent and honest approa...   \n",
      "4  Ayudia (Mawar De Jongh) is not satisfied enoug...   \n",
      "\n",
      "                                               stars    votes ratingLevel  \\\n",
      "0  ['Karen Wazen, ', 'Deema Al Asadi, ', 'Hala Ab...     15.0         NaN   \n",
      "1  ['Il Cho', '| ', '    Stars:', 'Yoo Ah-in, ', ...  39285.0         NaN   \n",
      "2  ['Sabina Fedeli, ', 'Anna Migotto', '| ', '   ...   1569.0         NaN   \n",
      "3  ['Rashida Jones, ', 'Kenya Barris, ', 'Iman Be...   4887.0         NaN   \n",
      "4  ['Rako Prijanto', '| ', '    Stars:', 'Adipati...    317.0         NaN   \n",
      "\n",
      "   ratingDescription  user rating size language premiere  runtime  \n",
      "0                NaN               NaN      NaN      NaN      NaN  \n",
      "1                NaN               NaN      NaN      NaN      NaN  \n",
      "2                NaN               NaN      NaN      NaN      NaN  \n",
      "3                NaN               NaN      NaN      NaN      NaN  \n",
      "4                NaN               NaN      NaN      NaN      NaN  \n"
     ]
    }
   ],
   "source": [
    "# Check the first few rows of the data\n",
    "print(final_merged_data.head())"
   ]
  },
  {
   "cell_type": "code",
   "execution_count": 83,
   "id": "ec4bd083-8038-4362-8253-05a12bd5bd54",
   "metadata": {},
   "outputs": [
    {
     "name": "stdout",
     "output_type": "stream",
     "text": [
      "<class 'pandas.core.frame.DataFrame'>\n",
      "RangeIndex: 11053 entries, 0 to 11052\n",
      "Data columns (total 15 columns):\n",
      " #   Column             Non-Null Count  Dtype  \n",
      "---  ------             --------------  -----  \n",
      " 0   title              11053 non-null  object \n",
      " 1   year               11053 non-null  int32  \n",
      " 2   certificate        9961 non-null   object \n",
      " 3   duration_min       9961 non-null   float64\n",
      " 4   genre              10555 non-null  object \n",
      " 5   rating             11053 non-null  float64\n",
      " 6   description        9961 non-null   object \n",
      " 7   stars              9961 non-null   object \n",
      " 8   votes              9961 non-null   float64\n",
      " 9   ratingLevel        503 non-null    object \n",
      " 10  ratingDescription  503 non-null    float64\n",
      " 11  user rating size   503 non-null    float64\n",
      " 12  language           641 non-null    object \n",
      " 13  premiere           641 non-null    object \n",
      " 14  runtime            641 non-null    float64\n",
      "dtypes: float64(6), int32(1), object(8)\n",
      "memory usage: 1.2+ MB\n",
      "None\n"
     ]
    }
   ],
   "source": [
    "# Get a summary of the dataframe\n",
    "print(final_merged_data.info())"
   ]
  },
  {
   "cell_type": "code",
   "execution_count": 85,
   "id": "a161f825-cfe7-44c7-bdb1-3b0a392693a6",
   "metadata": {},
   "outputs": [
    {
     "name": "stdout",
     "output_type": "stream",
     "text": [
      "               year  duration_min        rating         votes  \\\n",
      "count  11053.000000   9961.000000  11053.000000  9.961000e+03   \n",
      "mean    1900.670678     73.784461      6.799129  1.951831e+04   \n",
      "std      467.768037     44.843359      1.165370  8.224157e+04   \n",
      "min        0.000000      1.000000      1.700000  5.000000e+00   \n",
      "25%     2014.000000     46.000000      6.200000  3.580000e+02   \n",
      "50%     2018.000000     73.771620      6.764515  1.745000e+03   \n",
      "75%     2020.000000     93.000000      7.600000  1.506200e+04   \n",
      "max     2025.000000    990.000000      9.900000  1.844075e+06   \n",
      "\n",
      "       ratingDescription  user rating size     runtime  \n",
      "count         503.000000        503.000000  641.000000  \n",
      "mean           68.880716         80.966203   93.371295  \n",
      "std            31.453464          0.998430   28.071160  \n",
      "min            10.000000         80.000000    4.000000  \n",
      "25%            41.000000         80.000000   86.000000  \n",
      "50%            70.000000         80.000000   97.000000  \n",
      "75%            90.000000         82.000000  107.000000  \n",
      "max           124.000000         82.000000  209.000000  \n"
     ]
    }
   ],
   "source": [
    "# Describe the numerical columns\n",
    "print(final_merged_data.describe())"
   ]
  },
  {
   "cell_type": "code",
   "execution_count": 87,
   "id": "d85bf1e6-47f2-4d63-9692-641d81e453f0",
   "metadata": {},
   "outputs": [
    {
     "name": "stdout",
     "output_type": "stream",
     "text": [
      "title                    0\n",
      "year                     0\n",
      "certificate           1092\n",
      "duration_min          1092\n",
      "genre                  498\n",
      "rating                   0\n",
      "description           1092\n",
      "stars                 1092\n",
      "votes                 1092\n",
      "ratingLevel          10550\n",
      "ratingDescription    10550\n",
      "user rating size     10550\n",
      "language             10412\n",
      "premiere             10412\n",
      "runtime              10412\n",
      "dtype: int64\n"
     ]
    }
   ],
   "source": [
    "# Check for missing values\n",
    "print(final_merged_data.isnull().sum())"
   ]
  },
  {
   "cell_type": "code",
   "execution_count": 97,
   "id": "4236701a-2e0e-4277-8f90-df1d1d17f1c2",
   "metadata": {},
   "outputs": [],
   "source": [
    "# Load the new dataset using raw string notation to avoid escape character issues\n",
    "data4 = pd.read_csv(r'C:\\Users\\saman\\Downloads\\FP_BA_Netflix\\clean_datan4.csv')"
   ]
  },
  {
   "cell_type": "code",
   "execution_count": 101,
   "id": "0a7d3b87-6b98-407a-a6ae-475fc8c787cb",
   "metadata": {},
   "outputs": [
    {
     "name": "stdout",
     "output_type": "stream",
     "text": [
      "Data 1:\n",
      "                    title  year certificate  duration_min  \\\n",
      "0               Cobra Kai  2018       TV-14          30.0   \n",
      "1               The Crown  2016       TV-MA          58.0   \n",
      "2        Better Call Saul  2015       TV-MA          46.0   \n",
      "3           Devil in Ohio  2022       TV-MA         356.0   \n",
      "4  Cyberpunk: Edgerunners  2022       TV-MA          24.0   \n",
      "\n",
      "                          genre  rating  \\\n",
      "0         Action, Comedy, Drama     8.5   \n",
      "1     Biography, Drama, History     8.7   \n",
      "2                  Crime, Drama     8.9   \n",
      "3        Drama, Horror, Mystery     5.9   \n",
      "4  Animation, Action, Adventure     8.6   \n",
      "\n",
      "                                         description  \\\n",
      "0  Decades after their 1984 All Valley Karate Tou...   \n",
      "1  Follows the political rivalries and romance of...   \n",
      "2  The trials and tribulations of criminal lawyer...   \n",
      "3  When a psychiatrist shelters a mysterious cult...   \n",
      "4  A Street Kid trying to survive in a technology...   \n",
      "\n",
      "                                               stars     votes  \n",
      "0  ['Ralph Macchio, ', 'William Zabka, ', 'Courtn...  177031.0  \n",
      "1  ['Claire Foy, ', 'Olivia Colman, ', 'Imelda St...  199885.0  \n",
      "2  ['Bob Odenkirk, ', 'Rhea Seehorn, ', 'Jonathan...  501384.0  \n",
      "3  ['Emily Deschanel, ', 'Sam Jaeger, ', 'Gerardo...    9773.0  \n",
      "4  ['Zach Aguilar, ', 'Kenichiro Ohashi, ', 'Emi ...   15413.0  \n",
      "\n",
      "Data 2:\n",
      "                   title  rating  \\\n",
      "0           White Chicks     8.2   \n",
      "1    Lucky Number Slevin     8.1   \n",
      "2         Grey's Anatomy     9.8   \n",
      "3           Prison Break     9.8   \n",
      "4  How I Met Your Mother     9.4   \n",
      "\n",
      "                                         ratingLevel  ratingDescription  year  \\\n",
      "0  crude and sexual humor, language and some drug...                 80  2004   \n",
      "1  strong violence, sexual content and adult lang...                100  2006   \n",
      "2  Parents strongly cautioned. May be unsuitable ...                 90  2016   \n",
      "3  Parents strongly cautioned. May be unsuitable ...                 90  2008   \n",
      "4  Parental guidance suggested. May not be suitab...                 70  2014   \n",
      "\n",
      "   user rating size  \n",
      "0                80  \n",
      "1                82  \n",
      "2                80  \n",
      "3                80  \n",
      "4                80  \n",
      "\n",
      "Data 3:\n",
      "               title            genre language  rating    premiere  runtime  \\\n",
      "0   Notes for My Son            Drama  Spanish     6.3  11/24/2020       83   \n",
      "1   To Each, Her Own  Romantic comedy   French     5.3   6/24/2018       95   \n",
      "2      The Lovebirds  Romantic comedy  English     6.1   5/22/2020       87   \n",
      "3     The Perfection  Horror-thriller  English     6.1   5/24/2019       90   \n",
      "4  Happy Anniversary  Romantic comedy  English     5.8   3/30/2018       78   \n",
      "\n",
      "   year  \n",
      "0  2020  \n",
      "1  2018  \n",
      "2  2020  \n",
      "3  2019  \n",
      "4  2018  \n",
      "\n",
      "Data 4:\n",
      "         id                                title   type  \\\n",
      "0  ts300399  Five Came Back: The Reference Films   SHOW   \n",
      "1   tm82169                                Rocky  MOVIE   \n",
      "2   tm17823                               Grease  MOVIE   \n",
      "3  tm191099                            The Sting  MOVIE   \n",
      "4   tm69975                             Rocky II  MOVIE   \n",
      "\n",
      "                                         description  release_year  \\\n",
      "0  This collection includes 12 World War II-era p...          1945   \n",
      "1  When world heavyweight boxing champion, Apollo...          1976   \n",
      "2  Australian good girl Sandy and greaser Danny f...          1978   \n",
      "3  A novice con man teams up with an acknowledged...          1973   \n",
      "4  After Rocky goes the distance with champ Apoll...          1979   \n",
      "\n",
      "  age_certification  runtime                                 genres  \\\n",
      "0             TV-MA     51.0                      ['documentation']   \n",
      "1                PG    119.0                     ['drama', 'sport']   \n",
      "2                PG    110.0                  ['romance', 'comedy']   \n",
      "3                PG    129.0  ['crime', 'drama', 'comedy', 'music']   \n",
      "4                PG    119.0                     ['drama', 'sport']   \n",
      "\n",
      "  production_countries  seasons    imdb_id  imdb_score  imdb_votes  \\\n",
      "0               ['US']        1        NaN         6.6      2095.0   \n",
      "1               ['US']        0  tt0075148         8.1    588100.0   \n",
      "2               ['US']        0  tt0077631         7.2    283316.0   \n",
      "3               ['US']        0  tt0070735         8.3    266738.0   \n",
      "4               ['US']        0  tt0079817         7.3    216307.0   \n",
      "\n",
      "   tmdb_popularity  tmdb_score  title_age  \n",
      "0            0.601       6.791         79  \n",
      "1          106.361       7.782         48  \n",
      "2           33.160       7.406         46  \n",
      "3           24.616       8.020         51  \n",
      "4           75.699       7.246         45  \n",
      "\n",
      "Merge Data:\n",
      "                          title  year certificate  duration_min  \\\n",
      "0                       ABtalks  2018       TV-MA      73.77162   \n",
      "1                         Alive  2020       TV-MA      98.00000   \n",
      "2  AnneFrank - Parallel Stories  2019       TV-MA      92.00000   \n",
      "3                       BlackAF  2020       TV-MA      36.00000   \n",
      "4            FriendButMarried 2  2020       TV-14     100.00000   \n",
      "\n",
      "                      genre  rating  \\\n",
      "0                    Comedy     9.1   \n",
      "1     Action, Drama, Horror     6.3   \n",
      "2            Drama, History     6.5   \n",
      "3                    Comedy     6.7   \n",
      "4  Biography, Comedy, Drama     6.9   \n",
      "\n",
      "                                         description  \\\n",
      "0  ABtalks is an interview show hosted by Anas Bu...   \n",
      "1  The rapid spread of an unknown infection has l...   \n",
      "2  It is based on five women who did survive the ...   \n",
      "3  A father takes an irreverent and honest approa...   \n",
      "4  Ayudia (Mawar De Jongh) is not satisfied enoug...   \n",
      "\n",
      "                                               stars    votes ratingLevel  \\\n",
      "0  ['Karen Wazen, ', 'Deema Al Asadi, ', 'Hala Ab...     15.0         NaN   \n",
      "1  ['Il Cho', '| ', '    Stars:', 'Yoo Ah-in, ', ...  39285.0         NaN   \n",
      "2  ['Sabina Fedeli, ', 'Anna Migotto', '| ', '   ...   1569.0         NaN   \n",
      "3  ['Rashida Jones, ', 'Kenya Barris, ', 'Iman Be...   4887.0         NaN   \n",
      "4  ['Rako Prijanto', '| ', '    Stars:', 'Adipati...    317.0         NaN   \n",
      "\n",
      "   ratingDescription  user rating size language premiere  runtime  \n",
      "0                NaN               NaN      NaN      NaN      NaN  \n",
      "1                NaN               NaN      NaN      NaN      NaN  \n",
      "2                NaN               NaN      NaN      NaN      NaN  \n",
      "3                NaN               NaN      NaN      NaN      NaN  \n",
      "4                NaN               NaN      NaN      NaN      NaN  \n"
     ]
    }
   ],
   "source": [
    "# Display the first few rows of each dataset to understand their structure\n",
    "print(\"Data 1:\")\n",
    "print(data1.head())\n",
    "\n",
    "print(\"\\nData 2:\")\n",
    "print(data2.head())\n",
    "\n",
    "print(\"\\nData 3:\")\n",
    "print(data3.head())\n",
    "\n",
    "print(\"\\nData 4:\")\n",
    "print(data4.head())\n",
    "\n",
    "print(\"\\nMerge Data:\")\n",
    "print(final_merged_data.head())"
   ]
  },
  {
   "cell_type": "code",
   "execution_count": 103,
   "id": "aec15160-af52-436f-a7bf-24ed74df5ba0",
   "metadata": {},
   "outputs": [],
   "source": [
    "# Rename the column 'release_year' to 'year' from data 4\n",
    "data4.rename(columns={'release_year': 'year'}, inplace=True)"
   ]
  },
  {
   "cell_type": "code",
   "execution_count": null,
   "id": "23529c38-3caf-415c-9572-7cfa932cea63",
   "metadata": {},
   "outputs": [],
   "source": [
    "# Drop the old 'id' and 'imdb_id'column if no longer needed\n",
    "data4 = data4.drop(columns=['id', 'imdb_id'])"
   ]
  },
  {
   "cell_type": "code",
   "execution_count": 109,
   "id": "921fd1d7-579b-4202-ac37-a4bd34ef514b",
   "metadata": {},
   "outputs": [],
   "source": [
    "# Create the 'rating' column as the average of 'imdb_score' and 'tmdb_score', rounded to 1 decimal place\n",
    "data4['rating'] = data4[['imdb_score', 'tmdb_score']].mean(axis=1).round(1)"
   ]
  },
  {
   "cell_type": "code",
   "execution_count": 111,
   "id": "b19f579b-d039-458b-9607-8989ef3a9a99",
   "metadata": {},
   "outputs": [],
   "source": [
    "# Drop the old 'id' and 'imdb_id'column if no longer needed\n",
    "data4 = data4.drop(columns=['imdb_score', 'tmdb_score'])"
   ]
  },
  {
   "cell_type": "code",
   "execution_count": 113,
   "id": "fb00a235-4a8f-41da-a056-69750c9dda0e",
   "metadata": {},
   "outputs": [
    {
     "name": "stdout",
     "output_type": "stream",
     "text": [
      "                                 title   type  \\\n",
      "0  Five Came Back: The Reference Films   SHOW   \n",
      "1                                Rocky  MOVIE   \n",
      "2                               Grease  MOVIE   \n",
      "3                            The Sting  MOVIE   \n",
      "4                             Rocky II  MOVIE   \n",
      "\n",
      "                                         description  year age_certification  \\\n",
      "0  This collection includes 12 World War II-era p...  1945             TV-MA   \n",
      "1  When world heavyweight boxing champion, Apollo...  1976                PG   \n",
      "2  Australian good girl Sandy and greaser Danny f...  1978                PG   \n",
      "3  A novice con man teams up with an acknowledged...  1973                PG   \n",
      "4  After Rocky goes the distance with champ Apoll...  1979                PG   \n",
      "\n",
      "   runtime                                 genres production_countries  \\\n",
      "0     51.0                      ['documentation']               ['US']   \n",
      "1    119.0                     ['drama', 'sport']               ['US']   \n",
      "2    110.0                  ['romance', 'comedy']               ['US']   \n",
      "3    129.0  ['crime', 'drama', 'comedy', 'music']               ['US']   \n",
      "4    119.0                     ['drama', 'sport']               ['US']   \n",
      "\n",
      "   seasons  imdb_votes  tmdb_popularity  title_age  rating  \n",
      "0        1      2095.0            0.601         79     6.7  \n",
      "1        0    588100.0          106.361         48     7.9  \n",
      "2        0    283316.0           33.160         46     7.3  \n",
      "3        0    266738.0           24.616         51     8.2  \n",
      "4        0    216307.0           75.699         45     7.3  \n"
     ]
    }
   ],
   "source": [
    "# Display the updated DataFrame 4\n",
    "print(data4.head())"
   ]
  },
  {
   "cell_type": "code",
   "execution_count": 115,
   "id": "7cb93227-4002-4403-b024-447fa9a0acf1",
   "metadata": {},
   "outputs": [],
   "source": [
    "# Remove '[' and ']' from the 'genres' column\n",
    "data4['genre'] = data4['genres'].str.strip(\"[]\").str.replace(\"'\", \"\")"
   ]
  },
  {
   "cell_type": "code",
   "execution_count": 117,
   "id": "18b99d2b-fc09-4126-97d4-074e19c5a9d8",
   "metadata": {},
   "outputs": [],
   "source": [
    "# Drop the old 'genres' column (optional)\n",
    "data4 = data4.drop(columns=['genres'])"
   ]
  },
  {
   "cell_type": "code",
   "execution_count": 119,
   "id": "24102b45-2986-439e-a407-05e92f6e2b25",
   "metadata": {},
   "outputs": [
    {
     "name": "stdout",
     "output_type": "stream",
     "text": [
      "                                 title   type  \\\n",
      "0  Five Came Back: The Reference Films   SHOW   \n",
      "1                                Rocky  MOVIE   \n",
      "2                               Grease  MOVIE   \n",
      "3                            The Sting  MOVIE   \n",
      "4                             Rocky II  MOVIE   \n",
      "\n",
      "                                         description  year age_certification  \\\n",
      "0  This collection includes 12 World War II-era p...  1945             TV-MA   \n",
      "1  When world heavyweight boxing champion, Apollo...  1976                PG   \n",
      "2  Australian good girl Sandy and greaser Danny f...  1978                PG   \n",
      "3  A novice con man teams up with an acknowledged...  1973                PG   \n",
      "4  After Rocky goes the distance with champ Apoll...  1979                PG   \n",
      "\n",
      "   runtime production_countries  seasons  imdb_votes  tmdb_popularity  \\\n",
      "0     51.0               ['US']        1      2095.0            0.601   \n",
      "1    119.0               ['US']        0    588100.0          106.361   \n",
      "2    110.0               ['US']        0    283316.0           33.160   \n",
      "3    129.0               ['US']        0    266738.0           24.616   \n",
      "4    119.0               ['US']        0    216307.0           75.699   \n",
      "\n",
      "   title_age  rating                        genre  \n",
      "0         79     6.7                documentation  \n",
      "1         48     7.9                 drama, sport  \n",
      "2         46     7.3              romance, comedy  \n",
      "3         51     8.2  crime, drama, comedy, music  \n",
      "4         45     7.3                 drama, sport  \n"
     ]
    }
   ],
   "source": [
    "# Display the updated DataFrame 4\n",
    "print(data4.head())"
   ]
  },
  {
   "cell_type": "code",
   "execution_count": 121,
   "id": "ff421a6e-8b52-46fe-a7ff-1f88e1c2c514",
   "metadata": {},
   "outputs": [],
   "source": [
    "# Rename the column 'age_certification' to 'certification' from data 4\n",
    "data4.rename(columns={'age_certification' : 'certification'}, inplace=True)"
   ]
  },
  {
   "cell_type": "code",
   "execution_count": 123,
   "id": "0ade3e45-3ee5-42d5-9bd2-fc2d33480576",
   "metadata": {},
   "outputs": [],
   "source": [
    "# Remove '[' and ']' from the 'production_countries' column\n",
    "data4['production_countries'] = data4['production_countries'].str.strip(\"[]\").str.replace(\"'\", \"\")"
   ]
  },
  {
   "cell_type": "code",
   "execution_count": 125,
   "id": "53c8214d-e93e-4b5e-a8bb-378820638f11",
   "metadata": {},
   "outputs": [
    {
     "name": "stdout",
     "output_type": "stream",
     "text": [
      "                                 title   type  \\\n",
      "0  Five Came Back: The Reference Films   SHOW   \n",
      "1                                Rocky  MOVIE   \n",
      "2                               Grease  MOVIE   \n",
      "3                            The Sting  MOVIE   \n",
      "4                             Rocky II  MOVIE   \n",
      "\n",
      "                                         description  year certification  \\\n",
      "0  This collection includes 12 World War II-era p...  1945         TV-MA   \n",
      "1  When world heavyweight boxing champion, Apollo...  1976            PG   \n",
      "2  Australian good girl Sandy and greaser Danny f...  1978            PG   \n",
      "3  A novice con man teams up with an acknowledged...  1973            PG   \n",
      "4  After Rocky goes the distance with champ Apoll...  1979            PG   \n",
      "\n",
      "   runtime production_countries  seasons  imdb_votes  tmdb_popularity  \\\n",
      "0     51.0                   US        1      2095.0            0.601   \n",
      "1    119.0                   US        0    588100.0          106.361   \n",
      "2    110.0                   US        0    283316.0           33.160   \n",
      "3    129.0                   US        0    266738.0           24.616   \n",
      "4    119.0                   US        0    216307.0           75.699   \n",
      "\n",
      "   title_age  rating                        genre  \n",
      "0         79     6.7                documentation  \n",
      "1         48     7.9                 drama, sport  \n",
      "2         46     7.3              romance, comedy  \n",
      "3         51     8.2  crime, drama, comedy, music  \n",
      "4         45     7.3                 drama, sport  \n"
     ]
    }
   ],
   "source": [
    "# Display the updated DataFrame 4\n",
    "print(data4.head())"
   ]
  },
  {
   "cell_type": "code",
   "execution_count": 127,
   "id": "fcef6147-a133-42f0-a18d-008aa61916d5",
   "metadata": {},
   "outputs": [
    {
     "name": "stdout",
     "output_type": "stream",
     "text": [
      "Data 1:\n",
      "                    title  year certificate  duration_min  \\\n",
      "0               Cobra Kai  2018       TV-14          30.0   \n",
      "1               The Crown  2016       TV-MA          58.0   \n",
      "2        Better Call Saul  2015       TV-MA          46.0   \n",
      "3           Devil in Ohio  2022       TV-MA         356.0   \n",
      "4  Cyberpunk: Edgerunners  2022       TV-MA          24.0   \n",
      "\n",
      "                          genre  rating  \\\n",
      "0         Action, Comedy, Drama     8.5   \n",
      "1     Biography, Drama, History     8.7   \n",
      "2                  Crime, Drama     8.9   \n",
      "3        Drama, Horror, Mystery     5.9   \n",
      "4  Animation, Action, Adventure     8.6   \n",
      "\n",
      "                                         description  \\\n",
      "0  Decades after their 1984 All Valley Karate Tou...   \n",
      "1  Follows the political rivalries and romance of...   \n",
      "2  The trials and tribulations of criminal lawyer...   \n",
      "3  When a psychiatrist shelters a mysterious cult...   \n",
      "4  A Street Kid trying to survive in a technology...   \n",
      "\n",
      "                                               stars     votes  \n",
      "0  ['Ralph Macchio, ', 'William Zabka, ', 'Courtn...  177031.0  \n",
      "1  ['Claire Foy, ', 'Olivia Colman, ', 'Imelda St...  199885.0  \n",
      "2  ['Bob Odenkirk, ', 'Rhea Seehorn, ', 'Jonathan...  501384.0  \n",
      "3  ['Emily Deschanel, ', 'Sam Jaeger, ', 'Gerardo...    9773.0  \n",
      "4  ['Zach Aguilar, ', 'Kenichiro Ohashi, ', 'Emi ...   15413.0  \n",
      "\n",
      "Data 2:\n",
      "                   title  rating  \\\n",
      "0           White Chicks     8.2   \n",
      "1    Lucky Number Slevin     8.1   \n",
      "2         Grey's Anatomy     9.8   \n",
      "3           Prison Break     9.8   \n",
      "4  How I Met Your Mother     9.4   \n",
      "\n",
      "                                         ratingLevel  ratingDescription  year  \\\n",
      "0  crude and sexual humor, language and some drug...                 80  2004   \n",
      "1  strong violence, sexual content and adult lang...                100  2006   \n",
      "2  Parents strongly cautioned. May be unsuitable ...                 90  2016   \n",
      "3  Parents strongly cautioned. May be unsuitable ...                 90  2008   \n",
      "4  Parental guidance suggested. May not be suitab...                 70  2014   \n",
      "\n",
      "   user rating size  \n",
      "0                80  \n",
      "1                82  \n",
      "2                80  \n",
      "3                80  \n",
      "4                80  \n",
      "\n",
      "Data 3:\n",
      "               title            genre language  rating    premiere  runtime  \\\n",
      "0   Notes for My Son            Drama  Spanish     6.3  11/24/2020       83   \n",
      "1   To Each, Her Own  Romantic comedy   French     5.3   6/24/2018       95   \n",
      "2      The Lovebirds  Romantic comedy  English     6.1   5/22/2020       87   \n",
      "3     The Perfection  Horror-thriller  English     6.1   5/24/2019       90   \n",
      "4  Happy Anniversary  Romantic comedy  English     5.8   3/30/2018       78   \n",
      "\n",
      "   year  \n",
      "0  2020  \n",
      "1  2018  \n",
      "2  2020  \n",
      "3  2019  \n",
      "4  2018  \n",
      "\n",
      "Data 4:\n",
      "                                 title   type  \\\n",
      "0  Five Came Back: The Reference Films   SHOW   \n",
      "1                                Rocky  MOVIE   \n",
      "2                               Grease  MOVIE   \n",
      "3                            The Sting  MOVIE   \n",
      "4                             Rocky II  MOVIE   \n",
      "\n",
      "                                         description  year certification  \\\n",
      "0  This collection includes 12 World War II-era p...  1945         TV-MA   \n",
      "1  When world heavyweight boxing champion, Apollo...  1976            PG   \n",
      "2  Australian good girl Sandy and greaser Danny f...  1978            PG   \n",
      "3  A novice con man teams up with an acknowledged...  1973            PG   \n",
      "4  After Rocky goes the distance with champ Apoll...  1979            PG   \n",
      "\n",
      "   runtime production_countries  seasons  imdb_votes  tmdb_popularity  \\\n",
      "0     51.0                   US        1      2095.0            0.601   \n",
      "1    119.0                   US        0    588100.0          106.361   \n",
      "2    110.0                   US        0    283316.0           33.160   \n",
      "3    129.0                   US        0    266738.0           24.616   \n",
      "4    119.0                   US        0    216307.0           75.699   \n",
      "\n",
      "   title_age  rating                        genre  \n",
      "0         79     6.7                documentation  \n",
      "1         48     7.9                 drama, sport  \n",
      "2         46     7.3              romance, comedy  \n",
      "3         51     8.2  crime, drama, comedy, music  \n",
      "4         45     7.3                 drama, sport  \n"
     ]
    }
   ],
   "source": [
    "# Display the first few rows of each dataset to understand their structure\n",
    "print(\"Data 1:\")\n",
    "print(data1.head())\n",
    "\n",
    "print(\"\\nData 2:\")\n",
    "print(data2.head())\n",
    "\n",
    "print(\"\\nData 3:\")\n",
    "print(data3.head())\n",
    "\n",
    "print(\"\\nData 4:\")\n",
    "print(data4.head())"
   ]
  },
  {
   "cell_type": "code",
   "execution_count": 129,
   "id": "6b23bd31-d6a0-429d-a83c-47754983bfb8",
   "metadata": {},
   "outputs": [],
   "source": [
    "# Remove '[' and ']' from the 'stars' column\n",
    "data1['stars'] = data1['stars'].str.strip(\"[]\").str.replace(\"'\", \"\")"
   ]
  },
  {
   "cell_type": "code",
   "execution_count": 131,
   "id": "0b58c994-3d68-45e6-94fa-9fab86ff6b9f",
   "metadata": {},
   "outputs": [],
   "source": [
    "# Rename the column 'ratingLevel' to 'warnings' from data 2\n",
    "data2.rename(columns={'ratingLevel' : 'warnings'}, inplace=True)"
   ]
  },
  {
   "cell_type": "code",
   "execution_count": 133,
   "id": "fc71f0ca-3f48-49ba-acda-380e00bf7c72",
   "metadata": {},
   "outputs": [],
   "source": [
    "# Drop the old 'genres' column (optional) from data 3\n",
    "data3 = data3.drop(columns=['premiere'])"
   ]
  },
  {
   "cell_type": "code",
   "execution_count": 135,
   "id": "cb6dbf5d-e283-48b0-96ad-a28cad5a9de8",
   "metadata": {},
   "outputs": [
    {
     "name": "stdout",
     "output_type": "stream",
     "text": [
      "Data 1:\n",
      "                    title  year certificate  duration_min  \\\n",
      "0               Cobra Kai  2018       TV-14          30.0   \n",
      "1               The Crown  2016       TV-MA          58.0   \n",
      "2        Better Call Saul  2015       TV-MA          46.0   \n",
      "3           Devil in Ohio  2022       TV-MA         356.0   \n",
      "4  Cyberpunk: Edgerunners  2022       TV-MA          24.0   \n",
      "\n",
      "                          genre  rating  \\\n",
      "0         Action, Comedy, Drama     8.5   \n",
      "1     Biography, Drama, History     8.7   \n",
      "2                  Crime, Drama     8.9   \n",
      "3        Drama, Horror, Mystery     5.9   \n",
      "4  Animation, Action, Adventure     8.6   \n",
      "\n",
      "                                         description  \\\n",
      "0  Decades after their 1984 All Valley Karate Tou...   \n",
      "1  Follows the political rivalries and romance of...   \n",
      "2  The trials and tribulations of criminal lawyer...   \n",
      "3  When a psychiatrist shelters a mysterious cult...   \n",
      "4  A Street Kid trying to survive in a technology...   \n",
      "\n",
      "                                               stars     votes  \n",
      "0  Ralph Macchio, , William Zabka, , Courtney Hen...  177031.0  \n",
      "1  Claire Foy, , Olivia Colman, , Imelda Staunton...  199885.0  \n",
      "2  Bob Odenkirk, , Rhea Seehorn, , Jonathan Banks...  501384.0  \n",
      "3  Emily Deschanel, , Sam Jaeger, , Gerardo Celas...    9773.0  \n",
      "4  Zach Aguilar, , Kenichiro Ohashi, , Emi Lo, , ...   15413.0  \n",
      "\n",
      "Data 2:\n",
      "                   title  rating  \\\n",
      "0           White Chicks     8.2   \n",
      "1    Lucky Number Slevin     8.1   \n",
      "2         Grey's Anatomy     9.8   \n",
      "3           Prison Break     9.8   \n",
      "4  How I Met Your Mother     9.4   \n",
      "\n",
      "                                            warnings  ratingDescription  year  \\\n",
      "0  crude and sexual humor, language and some drug...                 80  2004   \n",
      "1  strong violence, sexual content and adult lang...                100  2006   \n",
      "2  Parents strongly cautioned. May be unsuitable ...                 90  2016   \n",
      "3  Parents strongly cautioned. May be unsuitable ...                 90  2008   \n",
      "4  Parental guidance suggested. May not be suitab...                 70  2014   \n",
      "\n",
      "   user rating size  \n",
      "0                80  \n",
      "1                82  \n",
      "2                80  \n",
      "3                80  \n",
      "4                80  \n",
      "\n",
      "Data 3:\n",
      "               title            genre language  rating  runtime  year\n",
      "0   Notes for My Son            Drama  Spanish     6.3       83  2020\n",
      "1   To Each, Her Own  Romantic comedy   French     5.3       95  2018\n",
      "2      The Lovebirds  Romantic comedy  English     6.1       87  2020\n",
      "3     The Perfection  Horror-thriller  English     6.1       90  2019\n",
      "4  Happy Anniversary  Romantic comedy  English     5.8       78  2018\n",
      "\n",
      "Data 4:\n",
      "                                 title   type  \\\n",
      "0  Five Came Back: The Reference Films   SHOW   \n",
      "1                                Rocky  MOVIE   \n",
      "2                               Grease  MOVIE   \n",
      "3                            The Sting  MOVIE   \n",
      "4                             Rocky II  MOVIE   \n",
      "\n",
      "                                         description  year certification  \\\n",
      "0  This collection includes 12 World War II-era p...  1945         TV-MA   \n",
      "1  When world heavyweight boxing champion, Apollo...  1976            PG   \n",
      "2  Australian good girl Sandy and greaser Danny f...  1978            PG   \n",
      "3  A novice con man teams up with an acknowledged...  1973            PG   \n",
      "4  After Rocky goes the distance with champ Apoll...  1979            PG   \n",
      "\n",
      "   runtime production_countries  seasons  imdb_votes  tmdb_popularity  \\\n",
      "0     51.0                   US        1      2095.0            0.601   \n",
      "1    119.0                   US        0    588100.0          106.361   \n",
      "2    110.0                   US        0    283316.0           33.160   \n",
      "3    129.0                   US        0    266738.0           24.616   \n",
      "4    119.0                   US        0    216307.0           75.699   \n",
      "\n",
      "   title_age  rating                        genre  \n",
      "0         79     6.7                documentation  \n",
      "1         48     7.9                 drama, sport  \n",
      "2         46     7.3              romance, comedy  \n",
      "3         51     8.2  crime, drama, comedy, music  \n",
      "4         45     7.3                 drama, sport  \n"
     ]
    }
   ],
   "source": [
    "# Display the first few rows of each dataset to understand their structure\n",
    "print(\"Data 1:\")\n",
    "print(data1.head())\n",
    "\n",
    "print(\"\\nData 2:\")\n",
    "print(data2.head())\n",
    "\n",
    "print(\"\\nData 3:\")\n",
    "print(data3.head())\n",
    "\n",
    "print(\"\\nData 4:\")\n",
    "print(data4.head())"
   ]
  },
  {
   "cell_type": "code",
   "execution_count": 137,
   "id": "cda7eca2-eace-4436-855e-ef36c8f5c3e7",
   "metadata": {},
   "outputs": [],
   "source": [
    "# Drop the old 'tmdb_popularity' column from data 4\n",
    "data4 = data4.drop(columns=['tmdb_popularity'])"
   ]
  },
  {
   "cell_type": "code",
   "execution_count": 139,
   "id": "5a4ee226-6555-49dc-b761-0c31a6455524",
   "metadata": {},
   "outputs": [],
   "source": [
    "# Rename the column 'imdb_votes' to 'votes' from data 4\n",
    "data4.rename(columns={'imdb_votes' : 'votes'}, inplace=True)"
   ]
  },
  {
   "cell_type": "code",
   "execution_count": 141,
   "id": "0d76d6ba-7997-405e-9c9c-bd49fd558613",
   "metadata": {},
   "outputs": [],
   "source": [
    "# Drop the old 'ratingDescription' column from data 2\n",
    "data2 = data2.drop(columns=['ratingDescription'])"
   ]
  },
  {
   "cell_type": "code",
   "execution_count": 143,
   "id": "603ad84e-a334-4545-8926-59ec46d7bac8",
   "metadata": {},
   "outputs": [],
   "source": [
    "# Drop the old 'title_age' column from data 4\n",
    "data4 = data4.drop(columns=['title_age'])"
   ]
  },
  {
   "cell_type": "code",
   "execution_count": 145,
   "id": "7d536249-eca1-4cb8-a1ec-c63142e839a6",
   "metadata": {},
   "outputs": [
    {
     "name": "stdout",
     "output_type": "stream",
     "text": [
      "Data 1:\n",
      "                    title  year certificate  duration_min  \\\n",
      "0               Cobra Kai  2018       TV-14          30.0   \n",
      "1               The Crown  2016       TV-MA          58.0   \n",
      "2        Better Call Saul  2015       TV-MA          46.0   \n",
      "3           Devil in Ohio  2022       TV-MA         356.0   \n",
      "4  Cyberpunk: Edgerunners  2022       TV-MA          24.0   \n",
      "\n",
      "                          genre  rating  \\\n",
      "0         Action, Comedy, Drama     8.5   \n",
      "1     Biography, Drama, History     8.7   \n",
      "2                  Crime, Drama     8.9   \n",
      "3        Drama, Horror, Mystery     5.9   \n",
      "4  Animation, Action, Adventure     8.6   \n",
      "\n",
      "                                         description  \\\n",
      "0  Decades after their 1984 All Valley Karate Tou...   \n",
      "1  Follows the political rivalries and romance of...   \n",
      "2  The trials and tribulations of criminal lawyer...   \n",
      "3  When a psychiatrist shelters a mysterious cult...   \n",
      "4  A Street Kid trying to survive in a technology...   \n",
      "\n",
      "                                               stars     votes  \n",
      "0  Ralph Macchio, , William Zabka, , Courtney Hen...  177031.0  \n",
      "1  Claire Foy, , Olivia Colman, , Imelda Staunton...  199885.0  \n",
      "2  Bob Odenkirk, , Rhea Seehorn, , Jonathan Banks...  501384.0  \n",
      "3  Emily Deschanel, , Sam Jaeger, , Gerardo Celas...    9773.0  \n",
      "4  Zach Aguilar, , Kenichiro Ohashi, , Emi Lo, , ...   15413.0  \n",
      "\n",
      "Data 2:\n",
      "                   title  rating  \\\n",
      "0           White Chicks     8.2   \n",
      "1    Lucky Number Slevin     8.1   \n",
      "2         Grey's Anatomy     9.8   \n",
      "3           Prison Break     9.8   \n",
      "4  How I Met Your Mother     9.4   \n",
      "\n",
      "                                            warnings  year  user rating size  \n",
      "0  crude and sexual humor, language and some drug...  2004                80  \n",
      "1  strong violence, sexual content and adult lang...  2006                82  \n",
      "2  Parents strongly cautioned. May be unsuitable ...  2016                80  \n",
      "3  Parents strongly cautioned. May be unsuitable ...  2008                80  \n",
      "4  Parental guidance suggested. May not be suitab...  2014                80  \n",
      "\n",
      "Data 3:\n",
      "               title            genre language  rating  runtime  year\n",
      "0   Notes for My Son            Drama  Spanish     6.3       83  2020\n",
      "1   To Each, Her Own  Romantic comedy   French     5.3       95  2018\n",
      "2      The Lovebirds  Romantic comedy  English     6.1       87  2020\n",
      "3     The Perfection  Horror-thriller  English     6.1       90  2019\n",
      "4  Happy Anniversary  Romantic comedy  English     5.8       78  2018\n",
      "\n",
      "Data 4:\n",
      "                                 title   type  \\\n",
      "0  Five Came Back: The Reference Films   SHOW   \n",
      "1                                Rocky  MOVIE   \n",
      "2                               Grease  MOVIE   \n",
      "3                            The Sting  MOVIE   \n",
      "4                             Rocky II  MOVIE   \n",
      "\n",
      "                                         description  year certification  \\\n",
      "0  This collection includes 12 World War II-era p...  1945         TV-MA   \n",
      "1  When world heavyweight boxing champion, Apollo...  1976            PG   \n",
      "2  Australian good girl Sandy and greaser Danny f...  1978            PG   \n",
      "3  A novice con man teams up with an acknowledged...  1973            PG   \n",
      "4  After Rocky goes the distance with champ Apoll...  1979            PG   \n",
      "\n",
      "   runtime production_countries  seasons     votes  rating  \\\n",
      "0     51.0                   US        1    2095.0     6.7   \n",
      "1    119.0                   US        0  588100.0     7.9   \n",
      "2    110.0                   US        0  283316.0     7.3   \n",
      "3    129.0                   US        0  266738.0     8.2   \n",
      "4    119.0                   US        0  216307.0     7.3   \n",
      "\n",
      "                         genre  \n",
      "0                documentation  \n",
      "1                 drama, sport  \n",
      "2              romance, comedy  \n",
      "3  crime, drama, comedy, music  \n",
      "4                 drama, sport  \n"
     ]
    }
   ],
   "source": [
    "# Display the first few rows of each dataset to understand their structure\n",
    "print(\"Data 1:\")\n",
    "print(data1.head())\n",
    "\n",
    "print(\"\\nData 2:\")\n",
    "print(data2.head())\n",
    "\n",
    "print(\"\\nData 3:\")\n",
    "print(data3.head())\n",
    "\n",
    "print(\"\\nData 4:\")\n",
    "print(data4.head())"
   ]
  },
  {
   "cell_type": "code",
   "execution_count": 147,
   "id": "2fe0374b-971c-436e-9f50-76706a3e78dc",
   "metadata": {},
   "outputs": [],
   "source": [
    "# Clean up double commas and extra spaces in the 'stars' column on data 1\n",
    "data1['stars'] = data1['stars'].str.replace(', ,', ',', regex=True).str.strip(', ').str.replace(', ,', ',')"
   ]
  },
  {
   "cell_type": "code",
   "execution_count": 151,
   "id": "56047b84-118d-4c67-84df-03e661d1934c",
   "metadata": {},
   "outputs": [],
   "source": [
    "# Rename the column 'certification' to 'certificate' from data 4\n",
    "data4.rename(columns={'certification' : 'certificate'}, inplace=True)"
   ]
  },
  {
   "cell_type": "code",
   "execution_count": 153,
   "id": "13b10eff-d939-421d-b913-f871a57cdcab",
   "metadata": {},
   "outputs": [],
   "source": [
    "# Rename the column 'runtime' to 'duration_min' from data 4\n",
    "data4.rename(columns={'runtime' : 'duration_min'}, inplace=True)"
   ]
  },
  {
   "cell_type": "code",
   "execution_count": 157,
   "id": "305290e8-2e65-4013-9ff5-19461248b38e",
   "metadata": {},
   "outputs": [],
   "source": [
    "# Rename the column 'user rating size' to 'votes' from data 2\n",
    "data2.rename(columns={'user rating size' : 'votes'}, inplace=True)"
   ]
  },
  {
   "cell_type": "code",
   "execution_count": 159,
   "id": "00350bd0-ef0a-4c44-ad61-a67ee285cacd",
   "metadata": {},
   "outputs": [
    {
     "name": "stdout",
     "output_type": "stream",
     "text": [
      "Data 1:\n",
      "                    title  year certificate  duration_min  \\\n",
      "0               Cobra Kai  2018       TV-14          30.0   \n",
      "1               The Crown  2016       TV-MA          58.0   \n",
      "2        Better Call Saul  2015       TV-MA          46.0   \n",
      "3           Devil in Ohio  2022       TV-MA         356.0   \n",
      "4  Cyberpunk: Edgerunners  2022       TV-MA          24.0   \n",
      "\n",
      "                          genre  rating  \\\n",
      "0         Action, Comedy, Drama     8.5   \n",
      "1     Biography, Drama, History     8.7   \n",
      "2                  Crime, Drama     8.9   \n",
      "3        Drama, Horror, Mystery     5.9   \n",
      "4  Animation, Action, Adventure     8.6   \n",
      "\n",
      "                                         description  \\\n",
      "0  Decades after their 1984 All Valley Karate Tou...   \n",
      "1  Follows the political rivalries and romance of...   \n",
      "2  The trials and tribulations of criminal lawyer...   \n",
      "3  When a psychiatrist shelters a mysterious cult...   \n",
      "4  A Street Kid trying to survive in a technology...   \n",
      "\n",
      "                                               stars     votes  \n",
      "0  Ralph Macchio, William Zabka, Courtney Henggel...  177031.0  \n",
      "1  Claire Foy, Olivia Colman, Imelda Staunton, Ma...  199885.0  \n",
      "2  Bob Odenkirk, Rhea Seehorn, Jonathan Banks, Pa...  501384.0  \n",
      "3  Emily Deschanel, Sam Jaeger, Gerardo Celasco, ...    9773.0  \n",
      "4   Zach Aguilar, Kenichiro Ohashi, Emi Lo, Aoi Yûki   15413.0  \n",
      "\n",
      "Data 2:\n",
      "                   title  rating  \\\n",
      "0           White Chicks     8.2   \n",
      "1    Lucky Number Slevin     8.1   \n",
      "2         Grey's Anatomy     9.8   \n",
      "3           Prison Break     9.8   \n",
      "4  How I Met Your Mother     9.4   \n",
      "\n",
      "                                            warnings  year  votes  \n",
      "0  crude and sexual humor, language and some drug...  2004     80  \n",
      "1  strong violence, sexual content and adult lang...  2006     82  \n",
      "2  Parents strongly cautioned. May be unsuitable ...  2016     80  \n",
      "3  Parents strongly cautioned. May be unsuitable ...  2008     80  \n",
      "4  Parental guidance suggested. May not be suitab...  2014     80  \n",
      "\n",
      "Data 3:\n",
      "               title            genre language  rating  runtime  year\n",
      "0   Notes for My Son            Drama  Spanish     6.3       83  2020\n",
      "1   To Each, Her Own  Romantic comedy   French     5.3       95  2018\n",
      "2      The Lovebirds  Romantic comedy  English     6.1       87  2020\n",
      "3     The Perfection  Horror-thriller  English     6.1       90  2019\n",
      "4  Happy Anniversary  Romantic comedy  English     5.8       78  2018\n",
      "\n",
      "Data 4:\n",
      "                                 title   type  \\\n",
      "0  Five Came Back: The Reference Films   SHOW   \n",
      "1                                Rocky  MOVIE   \n",
      "2                               Grease  MOVIE   \n",
      "3                            The Sting  MOVIE   \n",
      "4                             Rocky II  MOVIE   \n",
      "\n",
      "                                         description  year certificate  \\\n",
      "0  This collection includes 12 World War II-era p...  1945       TV-MA   \n",
      "1  When world heavyweight boxing champion, Apollo...  1976          PG   \n",
      "2  Australian good girl Sandy and greaser Danny f...  1978          PG   \n",
      "3  A novice con man teams up with an acknowledged...  1973          PG   \n",
      "4  After Rocky goes the distance with champ Apoll...  1979          PG   \n",
      "\n",
      "   duration_min production_countries  seasons     votes  rating  \\\n",
      "0          51.0                   US        1    2095.0     6.7   \n",
      "1         119.0                   US        0  588100.0     7.9   \n",
      "2         110.0                   US        0  283316.0     7.3   \n",
      "3         129.0                   US        0  266738.0     8.2   \n",
      "4         119.0                   US        0  216307.0     7.3   \n",
      "\n",
      "                         genre  \n",
      "0                documentation  \n",
      "1                 drama, sport  \n",
      "2              romance, comedy  \n",
      "3  crime, drama, comedy, music  \n",
      "4                 drama, sport  \n"
     ]
    }
   ],
   "source": [
    "# Display the first few rows of each dataset to understand their structure\n",
    "print(\"Data 1:\")\n",
    "print(data1.head())\n",
    "\n",
    "print(\"\\nData 2:\")\n",
    "print(data2.head())\n",
    "\n",
    "print(\"\\nData 3:\")\n",
    "print(data3.head())\n",
    "\n",
    "print(\"\\nData 4:\")\n",
    "print(data4.head())"
   ]
  },
  {
   "cell_type": "code",
   "execution_count": 161,
   "id": "8f80d37c-63d0-441c-8833-e7e169dfa2f6",
   "metadata": {},
   "outputs": [],
   "source": [
    "# Rename the column 'runtime' to 'duration_min'\n",
    "data3.rename(columns={'runtime': 'duration_min'}, inplace=True)"
   ]
  },
  {
   "cell_type": "code",
   "execution_count": 163,
   "id": "6cb2452b-01a6-43d2-b92e-8d498a98c029",
   "metadata": {},
   "outputs": [],
   "source": [
    "# Add a decimal place to the 'duration_min' column\n",
    "data3['duration_min'] = data3['duration_min'].astype(float).round(1)"
   ]
  },
  {
   "cell_type": "code",
   "execution_count": 165,
   "id": "335241ee-6e11-4f00-8441-a4114e519a66",
   "metadata": {},
   "outputs": [
    {
     "name": "stdout",
     "output_type": "stream",
     "text": [
      "['Spanish' 'French' 'English' 'Portuguese' 'English/Mandarin'\n",
      " 'English/Spanish' 'German' 'Italian' 'Korean' 'Thia/English' 'Hindi'\n",
      " 'Malay' 'Japanese' 'Marathi' 'Swedish' 'Indonesian' 'Dutch' 'Filipino'\n",
      " 'Spanish/English' 'English/Taiwanese/Mandarin' 'Georgian' 'English/Hindi'\n",
      " 'English/Russian' 'Spanish/Catalan' 'English/Ukranian/Russian' 'Tamil'\n",
      " 'Norwegian' 'Turkish' 'English/Arabic' 'Polish' 'English/Swedish'\n",
      " 'Bengali' 'English/Japanese' 'Thai' 'English/Korean'\n",
      " 'Khmer/English/French' 'English/Akan' 'Spanish/Basque']\n"
     ]
    }
   ],
   "source": [
    "# Check unique values in the 'language' column\n",
    "print(data3['language'].unique())"
   ]
  },
  {
   "cell_type": "code",
   "execution_count": 167,
   "id": "93f2ebb2-8c7d-4f7b-bfdf-c9b67a41ca1f",
   "metadata": {},
   "outputs": [
    {
     "name": "stdout",
     "output_type": "stream",
     "text": [
      "language\n",
      "English                       437\n",
      "Spanish                        35\n",
      "Hindi                          35\n",
      "French                         22\n",
      "Italian                        16\n",
      "Portuguese                     15\n",
      "Indonesian                     10\n",
      "German                          7\n",
      "Turkish                         6\n",
      "Korean                          6\n",
      "Japanese                        6\n",
      "English/Spanish                 5\n",
      "Polish                          4\n",
      "Marathi                         4\n",
      "Dutch                           3\n",
      "Filipino                        2\n",
      "Thai                            2\n",
      "English/Akan                    2\n",
      "English/Japanese                2\n",
      "English/Hindi                   2\n",
      "Bengali                         2\n",
      "English/Mandarin                2\n",
      "English/Korean                  1\n",
      "Khmer/English/French            1\n",
      "English/Swedish                 1\n",
      "English/Arabic                  1\n",
      "English/Taiwanese/Mandarin      1\n",
      "Norwegian                       1\n",
      "Tamil                           1\n",
      "English/Ukranian/Russian        1\n",
      "Spanish/Catalan                 1\n",
      "English/Russian                 1\n",
      "Georgian                        1\n",
      "Spanish/English                 1\n",
      "Swedish                         1\n",
      "Malay                           1\n",
      "Thia/English                    1\n",
      "Spanish/Basque                  1\n",
      "Name: count, dtype: int64\n"
     ]
    }
   ],
   "source": [
    "# Count the occurrences of each unique value in 'language'\n",
    "print(data3['language'].value_counts())"
   ]
  },
  {
   "cell_type": "code",
   "execution_count": 169,
   "id": "bb8fa3bf-0df6-4097-9dd3-fa503cf8bfe2",
   "metadata": {},
   "outputs": [
    {
     "name": "stdout",
     "output_type": "stream",
     "text": [
      "<class 'pandas.core.frame.DataFrame'>\n",
      "RangeIndex: 641 entries, 0 to 640\n",
      "Data columns (total 6 columns):\n",
      " #   Column        Non-Null Count  Dtype  \n",
      "---  ------        --------------  -----  \n",
      " 0   title         641 non-null    object \n",
      " 1   genre         641 non-null    object \n",
      " 2   language      641 non-null    object \n",
      " 3   rating        641 non-null    float64\n",
      " 4   duration_min  641 non-null    float64\n",
      " 5   year          641 non-null    int32  \n",
      "dtypes: float64(2), int32(1), object(3)\n",
      "memory usage: 27.7+ KB\n",
      "None\n"
     ]
    }
   ],
   "source": [
    "# Get a summary of the dataframe 3\n",
    "print(data3.info())"
   ]
  },
  {
   "cell_type": "code",
   "execution_count": 171,
   "id": "f4025a4f-6b47-4e9b-970f-b23ae6e5e59e",
   "metadata": {},
   "outputs": [
    {
     "name": "stdout",
     "output_type": "stream",
     "text": [
      "Data 1:\n",
      "                    title  year certificate  duration_min  \\\n",
      "0               Cobra Kai  2018       TV-14          30.0   \n",
      "1               The Crown  2016       TV-MA          58.0   \n",
      "2        Better Call Saul  2015       TV-MA          46.0   \n",
      "3           Devil in Ohio  2022       TV-MA         356.0   \n",
      "4  Cyberpunk: Edgerunners  2022       TV-MA          24.0   \n",
      "\n",
      "                          genre  rating  \\\n",
      "0         Action, Comedy, Drama     8.5   \n",
      "1     Biography, Drama, History     8.7   \n",
      "2                  Crime, Drama     8.9   \n",
      "3        Drama, Horror, Mystery     5.9   \n",
      "4  Animation, Action, Adventure     8.6   \n",
      "\n",
      "                                         description  \\\n",
      "0  Decades after their 1984 All Valley Karate Tou...   \n",
      "1  Follows the political rivalries and romance of...   \n",
      "2  The trials and tribulations of criminal lawyer...   \n",
      "3  When a psychiatrist shelters a mysterious cult...   \n",
      "4  A Street Kid trying to survive in a technology...   \n",
      "\n",
      "                                               stars     votes  \n",
      "0  Ralph Macchio, William Zabka, Courtney Henggel...  177031.0  \n",
      "1  Claire Foy, Olivia Colman, Imelda Staunton, Ma...  199885.0  \n",
      "2  Bob Odenkirk, Rhea Seehorn, Jonathan Banks, Pa...  501384.0  \n",
      "3  Emily Deschanel, Sam Jaeger, Gerardo Celasco, ...    9773.0  \n",
      "4   Zach Aguilar, Kenichiro Ohashi, Emi Lo, Aoi Yûki   15413.0  \n",
      "\n",
      "Data 2:\n",
      "                   title  rating  \\\n",
      "0           White Chicks     8.2   \n",
      "1    Lucky Number Slevin     8.1   \n",
      "2         Grey's Anatomy     9.8   \n",
      "3           Prison Break     9.8   \n",
      "4  How I Met Your Mother     9.4   \n",
      "\n",
      "                                            warnings  year  votes  \n",
      "0  crude and sexual humor, language and some drug...  2004     80  \n",
      "1  strong violence, sexual content and adult lang...  2006     82  \n",
      "2  Parents strongly cautioned. May be unsuitable ...  2016     80  \n",
      "3  Parents strongly cautioned. May be unsuitable ...  2008     80  \n",
      "4  Parental guidance suggested. May not be suitab...  2014     80  \n",
      "\n",
      "Data 3:\n",
      "               title            genre language  rating  duration_min  year\n",
      "0   Notes for My Son            Drama  Spanish     6.3          83.0  2020\n",
      "1   To Each, Her Own  Romantic comedy   French     5.3          95.0  2018\n",
      "2      The Lovebirds  Romantic comedy  English     6.1          87.0  2020\n",
      "3     The Perfection  Horror-thriller  English     6.1          90.0  2019\n",
      "4  Happy Anniversary  Romantic comedy  English     5.8          78.0  2018\n",
      "\n",
      "Data 4:\n",
      "                                 title   type  \\\n",
      "0  Five Came Back: The Reference Films   SHOW   \n",
      "1                                Rocky  MOVIE   \n",
      "2                               Grease  MOVIE   \n",
      "3                            The Sting  MOVIE   \n",
      "4                             Rocky II  MOVIE   \n",
      "\n",
      "                                         description  year certificate  \\\n",
      "0  This collection includes 12 World War II-era p...  1945       TV-MA   \n",
      "1  When world heavyweight boxing champion, Apollo...  1976          PG   \n",
      "2  Australian good girl Sandy and greaser Danny f...  1978          PG   \n",
      "3  A novice con man teams up with an acknowledged...  1973          PG   \n",
      "4  After Rocky goes the distance with champ Apoll...  1979          PG   \n",
      "\n",
      "   duration_min production_countries  seasons     votes  rating  \\\n",
      "0          51.0                   US        1    2095.0     6.7   \n",
      "1         119.0                   US        0  588100.0     7.9   \n",
      "2         110.0                   US        0  283316.0     7.3   \n",
      "3         129.0                   US        0  266738.0     8.2   \n",
      "4         119.0                   US        0  216307.0     7.3   \n",
      "\n",
      "                         genre  \n",
      "0                documentation  \n",
      "1                 drama, sport  \n",
      "2              romance, comedy  \n",
      "3  crime, drama, comedy, music  \n",
      "4                 drama, sport  \n"
     ]
    }
   ],
   "source": [
    "# Display the first few rows of each dataset to understand their structure\n",
    "print(\"Data 1:\")\n",
    "print(data1.head())\n",
    "\n",
    "print(\"\\nData 2:\")\n",
    "print(data2.head())\n",
    "\n",
    "print(\"\\nData 3:\")\n",
    "print(data3.head())\n",
    "\n",
    "print(\"\\nData 4:\")\n",
    "print(data4.head())"
   ]
  },
  {
   "cell_type": "code",
   "execution_count": 173,
   "id": "724c2b1a-9296-4449-9aad-0d65025b3d76",
   "metadata": {},
   "outputs": [
    {
     "name": "stdout",
     "output_type": "stream",
     "text": [
      "['SHOW' 'MOVIE']\n"
     ]
    }
   ],
   "source": [
    "# Check unique values in the 'type' column\n",
    "print(data4['type'].unique())"
   ]
  },
  {
   "cell_type": "code",
   "execution_count": 175,
   "id": "c0400da4-5c28-4fe7-9947-3eee8c578edf",
   "metadata": {},
   "outputs": [],
   "source": [
    "# Change values in the 'type' column to have only the first letter capitalized\n",
    "data4['type'] = data4['type'].str.capitalize()"
   ]
  },
  {
   "cell_type": "code",
   "execution_count": 177,
   "id": "d0fa2b05-1003-4867-856f-9ed518858dfd",
   "metadata": {},
   "outputs": [
    {
     "name": "stdout",
     "output_type": "stream",
     "text": [
      "Data 1:\n",
      "                    title  year certificate  duration_min  \\\n",
      "0               Cobra Kai  2018       TV-14          30.0   \n",
      "1               The Crown  2016       TV-MA          58.0   \n",
      "2        Better Call Saul  2015       TV-MA          46.0   \n",
      "3           Devil in Ohio  2022       TV-MA         356.0   \n",
      "4  Cyberpunk: Edgerunners  2022       TV-MA          24.0   \n",
      "\n",
      "                          genre  rating  \\\n",
      "0         Action, Comedy, Drama     8.5   \n",
      "1     Biography, Drama, History     8.7   \n",
      "2                  Crime, Drama     8.9   \n",
      "3        Drama, Horror, Mystery     5.9   \n",
      "4  Animation, Action, Adventure     8.6   \n",
      "\n",
      "                                         description  \\\n",
      "0  Decades after their 1984 All Valley Karate Tou...   \n",
      "1  Follows the political rivalries and romance of...   \n",
      "2  The trials and tribulations of criminal lawyer...   \n",
      "3  When a psychiatrist shelters a mysterious cult...   \n",
      "4  A Street Kid trying to survive in a technology...   \n",
      "\n",
      "                                               stars     votes  \n",
      "0  Ralph Macchio, William Zabka, Courtney Henggel...  177031.0  \n",
      "1  Claire Foy, Olivia Colman, Imelda Staunton, Ma...  199885.0  \n",
      "2  Bob Odenkirk, Rhea Seehorn, Jonathan Banks, Pa...  501384.0  \n",
      "3  Emily Deschanel, Sam Jaeger, Gerardo Celasco, ...    9773.0  \n",
      "4   Zach Aguilar, Kenichiro Ohashi, Emi Lo, Aoi Yûki   15413.0  \n",
      "\n",
      "Data 2:\n",
      "                   title  rating  \\\n",
      "0           White Chicks     8.2   \n",
      "1    Lucky Number Slevin     8.1   \n",
      "2         Grey's Anatomy     9.8   \n",
      "3           Prison Break     9.8   \n",
      "4  How I Met Your Mother     9.4   \n",
      "\n",
      "                                            warnings  year  votes  \n",
      "0  crude and sexual humor, language and some drug...  2004     80  \n",
      "1  strong violence, sexual content and adult lang...  2006     82  \n",
      "2  Parents strongly cautioned. May be unsuitable ...  2016     80  \n",
      "3  Parents strongly cautioned. May be unsuitable ...  2008     80  \n",
      "4  Parental guidance suggested. May not be suitab...  2014     80  \n",
      "\n",
      "Data 3:\n",
      "               title            genre language  rating  duration_min  year\n",
      "0   Notes for My Son            Drama  Spanish     6.3          83.0  2020\n",
      "1   To Each, Her Own  Romantic comedy   French     5.3          95.0  2018\n",
      "2      The Lovebirds  Romantic comedy  English     6.1          87.0  2020\n",
      "3     The Perfection  Horror-thriller  English     6.1          90.0  2019\n",
      "4  Happy Anniversary  Romantic comedy  English     5.8          78.0  2018\n",
      "\n",
      "Data 4:\n",
      "                                 title   type  \\\n",
      "0  Five Came Back: The Reference Films   Show   \n",
      "1                                Rocky  Movie   \n",
      "2                               Grease  Movie   \n",
      "3                            The Sting  Movie   \n",
      "4                             Rocky II  Movie   \n",
      "\n",
      "                                         description  year certificate  \\\n",
      "0  This collection includes 12 World War II-era p...  1945       TV-MA   \n",
      "1  When world heavyweight boxing champion, Apollo...  1976          PG   \n",
      "2  Australian good girl Sandy and greaser Danny f...  1978          PG   \n",
      "3  A novice con man teams up with an acknowledged...  1973          PG   \n",
      "4  After Rocky goes the distance with champ Apoll...  1979          PG   \n",
      "\n",
      "   duration_min production_countries  seasons     votes  rating  \\\n",
      "0          51.0                   US        1    2095.0     6.7   \n",
      "1         119.0                   US        0  588100.0     7.9   \n",
      "2         110.0                   US        0  283316.0     7.3   \n",
      "3         129.0                   US        0  266738.0     8.2   \n",
      "4         119.0                   US        0  216307.0     7.3   \n",
      "\n",
      "                         genre  \n",
      "0                documentation  \n",
      "1                 drama, sport  \n",
      "2              romance, comedy  \n",
      "3  crime, drama, comedy, music  \n",
      "4                 drama, sport  \n"
     ]
    }
   ],
   "source": [
    "# Display the first few rows of each dataset to understand their structure\n",
    "print(\"Data 1:\")\n",
    "print(data1.head())\n",
    "\n",
    "print(\"\\nData 2:\")\n",
    "print(data2.head())\n",
    "\n",
    "print(\"\\nData 3:\")\n",
    "print(data3.head())\n",
    "\n",
    "print(\"\\nData 4:\")\n",
    "print(data4.head())"
   ]
  },
  {
   "cell_type": "markdown",
   "id": "f0979516-8663-4b1c-be41-312efc9cae9f",
   "metadata": {},
   "source": [
    "## Merge"
   ]
  },
  {
   "cell_type": "code",
   "execution_count": 181,
   "id": "f90abde3-08ff-41b2-bc7f-7dea1ebeaafe",
   "metadata": {},
   "outputs": [],
   "source": [
    "# List of datasets to merge\n",
    "datasets = [data1, data2, data3, data4]"
   ]
  },
  {
   "cell_type": "code",
   "execution_count": 183,
   "id": "15432afe-50fb-41f2-b5c4-b2066b9107fe",
   "metadata": {},
   "outputs": [],
   "source": [
    "# Concatenate the datasets\n",
    "merged_data = pd.concat(datasets, ignore_index=True)"
   ]
  },
  {
   "cell_type": "code",
   "execution_count": 185,
   "id": "9a008f0a-86b2-4ace-88c6-7376d90b2d89",
   "metadata": {},
   "outputs": [],
   "source": [
    "# Fill missing numeric values with 0\n",
    "numeric_columns = merged_data.select_dtypes(include=['number']).columns\n",
    "merged_data[numeric_columns] = merged_data[numeric_columns].fillna(0)"
   ]
  },
  {
   "cell_type": "code",
   "execution_count": 187,
   "id": "640adf32-0485-480f-9081-f20167b93e51",
   "metadata": {},
   "outputs": [],
   "source": [
    "# Fill missing non-numeric values with 'Unknown'\n",
    "non_numeric_columns = merged_data.select_dtypes(exclude=['number']).columns\n",
    "merged_data[non_numeric_columns] = merged_data[non_numeric_columns].fillna('Unknown')"
   ]
  },
  {
   "cell_type": "code",
   "execution_count": 189,
   "id": "676cf3b6-2860-4aa4-a72e-9c791008ff45",
   "metadata": {},
   "outputs": [
    {
     "name": "stdout",
     "output_type": "stream",
     "text": [
      "                    title  year certificate  duration_min  \\\n",
      "0               Cobra Kai  2018       TV-14          30.0   \n",
      "1               The Crown  2016       TV-MA          58.0   \n",
      "2        Better Call Saul  2015       TV-MA          46.0   \n",
      "3           Devil in Ohio  2022       TV-MA         356.0   \n",
      "4  Cyberpunk: Edgerunners  2022       TV-MA          24.0   \n",
      "\n",
      "                          genre  rating  \\\n",
      "0         Action, Comedy, Drama     8.5   \n",
      "1     Biography, Drama, History     8.7   \n",
      "2                  Crime, Drama     8.9   \n",
      "3        Drama, Horror, Mystery     5.9   \n",
      "4  Animation, Action, Adventure     8.6   \n",
      "\n",
      "                                         description  \\\n",
      "0  Decades after their 1984 All Valley Karate Tou...   \n",
      "1  Follows the political rivalries and romance of...   \n",
      "2  The trials and tribulations of criminal lawyer...   \n",
      "3  When a psychiatrist shelters a mysterious cult...   \n",
      "4  A Street Kid trying to survive in a technology...   \n",
      "\n",
      "                                               stars     votes warnings  \\\n",
      "0  Ralph Macchio, William Zabka, Courtney Henggel...  177031.0  Unknown   \n",
      "1  Claire Foy, Olivia Colman, Imelda Staunton, Ma...  199885.0  Unknown   \n",
      "2  Bob Odenkirk, Rhea Seehorn, Jonathan Banks, Pa...  501384.0  Unknown   \n",
      "3  Emily Deschanel, Sam Jaeger, Gerardo Celasco, ...    9773.0  Unknown   \n",
      "4   Zach Aguilar, Kenichiro Ohashi, Emi Lo, Aoi Yûki   15413.0  Unknown   \n",
      "\n",
      "  language     type production_countries  seasons  \n",
      "0  Unknown  Unknown              Unknown      0.0  \n",
      "1  Unknown  Unknown              Unknown      0.0  \n",
      "2  Unknown  Unknown              Unknown      0.0  \n",
      "3  Unknown  Unknown              Unknown      0.0  \n",
      "4  Unknown  Unknown              Unknown      0.0  \n"
     ]
    }
   ],
   "source": [
    "# Display the merged dataset\n",
    "print(merged_data.head())"
   ]
  },
  {
   "cell_type": "code",
   "execution_count": 193,
   "id": "3f63df73-84c2-4e21-84bd-d89756b29d55",
   "metadata": {},
   "outputs": [],
   "source": [
    "# Save each cleaned dataset\n",
    "data1.to_csv(r'C:\\Users\\saman\\Downloads\\FP_BA_Netflix\\clean_data1.csv', index=False)\n",
    "data2.to_csv(r'C:\\Users\\saman\\Downloads\\FP_BA_Netflix\\clean_data2.csv', index=False)\n",
    "data3.to_csv(r'C:\\Users\\saman\\Downloads\\FP_BA_Netflix\\clean_data3.csv', index=False)\n",
    "data4.to_csv(r'C:\\Users\\saman\\Downloads\\FP_BA_Netflix\\clean_data4.csv', index=False)"
   ]
  },
  {
   "cell_type": "code",
   "execution_count": 195,
   "id": "f3281400-0bfe-4918-bd6a-82f35c334b1a",
   "metadata": {},
   "outputs": [],
   "source": [
    "# Save the merged dataset\n",
    "merged_data.to_csv(r'C:\\Users\\saman\\Downloads\\FP_BA_Netflix\\merged_data.csv', index=False)"
   ]
  },
  {
   "cell_type": "code",
   "execution_count": 197,
   "id": "56e67058-3515-49ae-9558-c8f6aafc2b1d",
   "metadata": {},
   "outputs": [],
   "source": [
    "# Store all datasets (including intermediate ones) in a single Excel file with different sheets\n",
    "with pd.ExcelWriter(r'C:\\Users\\saman\\Downloads\\FP_BA_Netflix\\all_datasets.xlsx') as writer:\n",
    "    data1.to_excel(writer, sheet_name='Clean_Data1', index=False)\n",
    "    data2.to_excel(writer, sheet_name='Clean_Data2', index=False)\n",
    "    data3.to_excel(writer, sheet_name='Clean_Data3', index=False)\n",
    "    data4.to_excel(writer, sheet_name='Clean_Data4', index=False)\n",
    "    merged_data.to_excel(writer, sheet_name='Merged_Data', index=False)"
   ]
  },
  {
   "cell_type": "markdown",
   "id": "a663d650-2b59-46e3-8a3a-8a4c70e994aa",
   "metadata": {},
   "source": [
    "## Second EDA"
   ]
  },
  {
   "cell_type": "code",
   "execution_count": 200,
   "id": "c03d4206-06c0-4024-b157-41d9c9a53d43",
   "metadata": {},
   "outputs": [
    {
     "name": "stdout",
     "output_type": "stream",
     "text": [
      "                    title  year certificate  duration_min  \\\n",
      "0               Cobra Kai  2018       TV-14          30.0   \n",
      "1               The Crown  2016       TV-MA          58.0   \n",
      "2        Better Call Saul  2015       TV-MA          46.0   \n",
      "3           Devil in Ohio  2022       TV-MA         356.0   \n",
      "4  Cyberpunk: Edgerunners  2022       TV-MA          24.0   \n",
      "\n",
      "                          genre  rating  \\\n",
      "0         Action, Comedy, Drama     8.5   \n",
      "1     Biography, Drama, History     8.7   \n",
      "2                  Crime, Drama     8.9   \n",
      "3        Drama, Horror, Mystery     5.9   \n",
      "4  Animation, Action, Adventure     8.6   \n",
      "\n",
      "                                         description  \\\n",
      "0  Decades after their 1984 All Valley Karate Tou...   \n",
      "1  Follows the political rivalries and romance of...   \n",
      "2  The trials and tribulations of criminal lawyer...   \n",
      "3  When a psychiatrist shelters a mysterious cult...   \n",
      "4  A Street Kid trying to survive in a technology...   \n",
      "\n",
      "                                               stars     votes warnings  \\\n",
      "0  Ralph Macchio, William Zabka, Courtney Henggel...  177031.0  Unknown   \n",
      "1  Claire Foy, Olivia Colman, Imelda Staunton, Ma...  199885.0  Unknown   \n",
      "2  Bob Odenkirk, Rhea Seehorn, Jonathan Banks, Pa...  501384.0  Unknown   \n",
      "3  Emily Deschanel, Sam Jaeger, Gerardo Celasco, ...    9773.0  Unknown   \n",
      "4   Zach Aguilar, Kenichiro Ohashi, Emi Lo, Aoi Yûki   15413.0  Unknown   \n",
      "\n",
      "  language     type production_countries  seasons  \n",
      "0  Unknown  Unknown              Unknown      0.0  \n",
      "1  Unknown  Unknown              Unknown      0.0  \n",
      "2  Unknown  Unknown              Unknown      0.0  \n",
      "3  Unknown  Unknown              Unknown      0.0  \n",
      "4  Unknown  Unknown              Unknown      0.0  \n"
     ]
    }
   ],
   "source": [
    "# Show the first few rows of the dataset\n",
    "print(merged_data.head())"
   ]
  },
  {
   "cell_type": "code",
   "execution_count": 202,
   "id": "fd007bfa-4fc1-4e6f-8320-eaa628f195a8",
   "metadata": {},
   "outputs": [
    {
     "name": "stdout",
     "output_type": "stream",
     "text": [
      "<class 'pandas.core.frame.DataFrame'>\n",
      "RangeIndex: 17235 entries, 0 to 17234\n",
      "Data columns (total 14 columns):\n",
      " #   Column                Non-Null Count  Dtype  \n",
      "---  ------                --------------  -----  \n",
      " 0   title                 17235 non-null  object \n",
      " 1   year                  17235 non-null  int64  \n",
      " 2   certificate           17235 non-null  object \n",
      " 3   duration_min          17235 non-null  float64\n",
      " 4   genre                 17235 non-null  object \n",
      " 5   rating                17235 non-null  float64\n",
      " 6   description           17235 non-null  object \n",
      " 7   stars                 17235 non-null  object \n",
      " 8   votes                 17235 non-null  float64\n",
      " 9   warnings              17235 non-null  object \n",
      " 10  language              17235 non-null  object \n",
      " 11  type                  17235 non-null  object \n",
      " 12  production_countries  17235 non-null  object \n",
      " 13  seasons               17235 non-null  float64\n",
      "dtypes: float64(4), int64(1), object(9)\n",
      "memory usage: 1.8+ MB\n",
      "None\n"
     ]
    }
   ],
   "source": [
    "# Get a summary of the dataset, including data types and non-null counts\n",
    "print(merged_data.info())"
   ]
  },
  {
   "cell_type": "code",
   "execution_count": 204,
   "id": "89fde0af-1f4e-420b-802f-cab138c9c588",
   "metadata": {},
   "outputs": [
    {
     "name": "stdout",
     "output_type": "stream",
     "text": [
      "               year  duration_min        rating         votes       seasons\n",
      "count  17235.000000  17235.000000  17235.000000  1.723500e+04  17235.000000\n",
      "mean    1942.532695     73.378069      6.724124  1.827731e+04      0.281868\n",
      "std      378.771360     43.630173      1.113267  8.216143e+04      1.225400\n",
      "min        0.000000      0.000000      1.700000  0.000000e+00      0.000000\n",
      "25%     2015.000000     44.000000      6.100000  2.810000e+02      0.000000\n",
      "50%     2018.000000     73.771620      6.764515  1.667000e+03      0.000000\n",
      "75%     2020.000000     98.000000      7.500000  8.834000e+03      0.000000\n",
      "max     2025.000000    990.000000      9.900000  2.684317e+06     44.000000\n"
     ]
    }
   ],
   "source": [
    "# Show basic statistics for numeric columns\n",
    "print(merged_data.describe())"
   ]
  },
  {
   "cell_type": "code",
   "execution_count": 206,
   "id": "8ab7e605-107a-4a73-af22-5d48d4a6631d",
   "metadata": {},
   "outputs": [
    {
     "name": "stdout",
     "output_type": "stream",
     "text": [
      "title                   0\n",
      "year                    0\n",
      "certificate             0\n",
      "duration_min            0\n",
      "genre                   0\n",
      "rating                  0\n",
      "description             0\n",
      "stars                   0\n",
      "votes                   0\n",
      "warnings                0\n",
      "language                0\n",
      "type                    0\n",
      "production_countries    0\n",
      "seasons                 0\n",
      "dtype: int64\n"
     ]
    }
   ],
   "source": [
    "# Check for missing values in the dataset\n",
    "print(merged_data.isnull().sum())"
   ]
  },
  {
   "cell_type": "code",
   "execution_count": 208,
   "id": "42fe4561-a875-40cb-9354-acd7a8506c66",
   "metadata": {},
   "outputs": [],
   "source": [
    "# Find and remove duplicate rows\n",
    "duplicates = merged_data[merged_data.duplicated()]"
   ]
  },
  {
   "cell_type": "code",
   "execution_count": 210,
   "id": "cc01c7cc-af21-4609-91bd-3e0aadc56bb6",
   "metadata": {},
   "outputs": [
    {
     "name": "stdout",
     "output_type": "stream",
     "text": [
      "Number of duplicate rows: 58\n"
     ]
    }
   ],
   "source": [
    "# Count duplicates\n",
    "duplicate_count = merged_data.duplicated().sum()\n",
    "print(f\"Number of duplicate rows: {duplicate_count}\")"
   ]
  },
  {
   "cell_type": "code",
   "execution_count": 212,
   "id": "8d2e752f-84a2-4af6-9199-777eada86d19",
   "metadata": {},
   "outputs": [
    {
     "name": "stdout",
     "output_type": "stream",
     "text": [
      "                                                  title  year certificate  \\\n",
      "11040                                       Paris Is Us  2019     Unknown   \n",
      "11041                                              1922  2017     Unknown   \n",
      "11042                               Beasts of No Nation  2015     Unknown   \n",
      "11043               Porta dos Fundos: The Last Hangover  2018     Unknown   \n",
      "11044                               Holiday in the Wild  2019     Unknown   \n",
      "11045                                          Tallulah  2016     Unknown   \n",
      "11046                                       June & Kopi  2021     Unknown   \n",
      "11047                                        Sextuplets  2019     Unknown   \n",
      "11048                        Deidra & Laney Rob a Train  2017     Unknown   \n",
      "11049             The Legacy of a Whitetail Deer Hunter  2018     Unknown   \n",
      "11050                                         His House  2020     Unknown   \n",
      "11051                                    Velvet Buzzsaw  2019     Unknown   \n",
      "11052                                            Ultras  2020     Unknown   \n",
      "11053                                     Someone Great  2019     Unknown   \n",
      "11054               Guillermo Vilas: Settling the Score  2020     Unknown   \n",
      "11055                                              13th  2016     Unknown   \n",
      "11056                                      LA Originals  2020     Unknown   \n",
      "11057                                 The Rachel Divide  2018     Unknown   \n",
      "11058                                   Earth and Blood  2020     Unknown   \n",
      "11059                                   Crazy About Her  2021     Unknown   \n",
      "11060                                            Evelyn  2019     Unknown   \n",
      "11061                                    The Open House  2018     Unknown   \n",
      "11062                                      Sandy Wexler  2017     Unknown   \n",
      "11063                              Ghosts of Sugar Land  2019     Unknown   \n",
      "11064                                   Unknown Origins  2020     Unknown   \n",
      "11065  Porta dos Fundos: The First Temptation of Christ  2019     Unknown   \n",
      "11066                                     A Secret Love  2020     Unknown   \n",
      "11067                                    The Perfection  2019     Unknown   \n",
      "11068                                        Heroin(e)   2017     Unknown   \n",
      "11069            Dolly Parton's Christmas on the Square  2020     Unknown   \n",
      "11070                                             Ibiza  2018     Unknown   \n",
      "11071                                          Uncorked  2020     Unknown   \n",
      "11072                                       Paper Lives  2021     Unknown   \n",
      "11073                                      Squared Love  2021     Unknown   \n",
      "11074                                  5 Star Christmas  2018     Unknown   \n",
      "11075                                      House Arrest  2019     Unknown   \n",
      "11076                                   Imperial Dreams  2017     Unknown   \n",
      "11077                Octonauts & the Great Barrier Reef  2020     Unknown   \n",
      "11078                           Cuba and the Cameraman   2017     Unknown   \n",
      "11079                                 Rooting for Roona  2020     Unknown   \n",
      "11080          David Attenborough: A Life on Our Planet  2020     Unknown   \n",
      "11081                                     The Discovery  2017     Unknown   \n",
      "11082                                      Rajma Chawal  2018     Unknown   \n",
      "11083                                      The Irishman  2019     Unknown   \n",
      "11084                                   Roxanne Roxanne  2018     Unknown   \n",
      "11085                                  Army of the Dead  2021     Unknown   \n",
      "11086                                          AK vs AK  2020     Unknown   \n",
      "11087                                      The Disciple  2021     Unknown   \n",
      "11088                                          Extremis  2016     Unknown   \n",
      "11089            Dance Dreams: Hot Chocolate Nutcracker  2020     Unknown   \n",
      "11090                                         Intuition  2020     Unknown   \n",
      "11091                          Freaks: You're One of Us  2020     Unknown   \n",
      "11092                              Spenser Confidential  2020     Unknown   \n",
      "11093                                         Laerte-se  2017     Unknown   \n",
      "11094                    If Anything Happens I Love You  2020     Unknown   \n",
      "11095                                        Isi & Ossi  2020     Unknown   \n",
      "11096                   Sarah Cooper: Everything's Fine  2020     Unknown   \n",
      "11097                                           Paradox  2018     Unknown   \n",
      "\n",
      "       duration_min                    genre  rating description    stars  \\\n",
      "11040          83.0            Romance drama     4.6     Unknown  Unknown   \n",
      "11041         102.0       Horror/Crime drama     6.3     Unknown  Unknown   \n",
      "11042         136.0                War drama     7.7     Unknown  Unknown   \n",
      "11043          44.0                   Comedy     6.3     Unknown  Unknown   \n",
      "11044          85.0        Adventure-romance     6.1     Unknown  Unknown   \n",
      "11045         111.0             Comedy-drama     6.7     Unknown  Unknown   \n",
      "11046          90.0                    Drama     6.3     Unknown  Unknown   \n",
      "11047          99.0                   Comedy     4.4     Unknown  Unknown   \n",
      "11048          94.0                    Drama     6.1     Unknown  Unknown   \n",
      "11049          83.0         Adventure/Comedy     5.5     Unknown  Unknown   \n",
      "11050          93.0                 Thriller     6.5     Unknown  Unknown   \n",
      "11051         112.0                 Thriller     5.7     Unknown  Unknown   \n",
      "11052         108.0              Sports film     5.9     Unknown  Unknown   \n",
      "11053          92.0          Romantic comedy     6.2     Unknown  Unknown   \n",
      "11054          94.0              Documentary     7.1     Unknown  Unknown   \n",
      "11055         100.0              Documentary     8.2     Unknown  Unknown   \n",
      "11056          92.0              Documentary     7.2     Unknown  Unknown   \n",
      "11057         104.0              Documentary     6.2     Unknown  Unknown   \n",
      "11058          80.0                   Action     4.9     Unknown  Unknown   \n",
      "11059         102.0          Romantic comedy     6.6     Unknown  Unknown   \n",
      "11060          96.0              Documentary     7.1     Unknown  Unknown   \n",
      "11061          94.0          Horror thriller     3.2     Unknown  Unknown   \n",
      "11062         131.0                   Comedy     5.2     Unknown  Unknown   \n",
      "11063          21.0              Documentary     5.5     Unknown  Unknown   \n",
      "11064          96.0                 Thriller     6.1     Unknown  Unknown   \n",
      "11065          46.0                   Comedy     4.6     Unknown  Unknown   \n",
      "11066          82.0              Documentary     7.9     Unknown  Unknown   \n",
      "11067          90.0          Horror-thriller     6.1     Unknown  Unknown   \n",
      "11068          39.0              Documentary     6.8     Unknown  Unknown   \n",
      "11069          98.0        Christmas musical     5.2     Unknown  Unknown   \n",
      "11070          94.0                   Comedy     5.2     Unknown  Unknown   \n",
      "11071         103.0                    Drama     6.3     Unknown  Unknown   \n",
      "11072          97.0                    Drama     6.7     Unknown  Unknown   \n",
      "11073         102.0          Romantic comedy     5.0     Unknown  Unknown   \n",
      "11074          95.0                   Comedy     4.6     Unknown  Unknown   \n",
      "11075         104.0                   Comedy     5.5     Unknown  Unknown   \n",
      "11076          87.0                    Drama     6.7     Unknown  Unknown   \n",
      "11077          47.0                Animation     7.3     Unknown  Unknown   \n",
      "11078         114.0              Documentary     8.3     Unknown  Unknown   \n",
      "11079          41.0              Documentary     7.1     Unknown  Unknown   \n",
      "11080          83.0              Documentary     9.0     Unknown  Unknown   \n",
      "11081         102.0    Science fiction/Drama     6.3     Unknown  Unknown   \n",
      "11082         118.0             Comedy-drama     5.8     Unknown  Unknown   \n",
      "11083         209.0              Crime drama     7.8     Unknown  Unknown   \n",
      "11084          98.0                   Biopic     6.2     Unknown  Unknown   \n",
      "11085         148.0             Zombie/Heist     5.9     Unknown  Unknown   \n",
      "11086         108.0                 Thriller     6.9     Unknown  Unknown   \n",
      "11087         129.0                    Drama     7.2     Unknown  Unknown   \n",
      "11088          24.0              Documentary     7.3     Unknown  Unknown   \n",
      "11089          80.0              Documentary     7.1     Unknown  Unknown   \n",
      "11090         116.0                 Thriller     5.3     Unknown  Unknown   \n",
      "11091          92.0       Supernatural drama     5.4     Unknown  Unknown   \n",
      "11092         111.0            Action comedy     6.2     Unknown  Unknown   \n",
      "11093         100.0              Documentary     6.9     Unknown  Unknown   \n",
      "11094          12.0        Animation / Short     7.8     Unknown  Unknown   \n",
      "11095         113.0          Romantic comedy     6.4     Unknown  Unknown   \n",
      "11096          49.0             Variety show     5.6     Unknown  Unknown   \n",
      "11097          73.0  Musical/Western/Fantasy     3.9     Unknown  Unknown   \n",
      "\n",
      "       votes warnings      language     type production_countries  seasons  \n",
      "11040    0.0  Unknown        French  Unknown              Unknown      0.0  \n",
      "11041    0.0  Unknown       English  Unknown              Unknown      0.0  \n",
      "11042    0.0  Unknown  English/Akan  Unknown              Unknown      0.0  \n",
      "11043    0.0  Unknown    Portuguese  Unknown              Unknown      0.0  \n",
      "11044    0.0  Unknown       English  Unknown              Unknown      0.0  \n",
      "11045    0.0  Unknown       English  Unknown              Unknown      0.0  \n",
      "11046    0.0  Unknown    Indonesian  Unknown              Unknown      0.0  \n",
      "11047    0.0  Unknown       English  Unknown              Unknown      0.0  \n",
      "11048    0.0  Unknown       English  Unknown              Unknown      0.0  \n",
      "11049    0.0  Unknown       English  Unknown              Unknown      0.0  \n",
      "11050    0.0  Unknown       English  Unknown              Unknown      0.0  \n",
      "11051    0.0  Unknown       English  Unknown              Unknown      0.0  \n",
      "11052    0.0  Unknown       Italian  Unknown              Unknown      0.0  \n",
      "11053    0.0  Unknown       English  Unknown              Unknown      0.0  \n",
      "11054    0.0  Unknown       Spanish  Unknown              Unknown      0.0  \n",
      "11055    0.0  Unknown       English  Unknown              Unknown      0.0  \n",
      "11056    0.0  Unknown       English  Unknown              Unknown      0.0  \n",
      "11057    0.0  Unknown       English  Unknown              Unknown      0.0  \n",
      "11058    0.0  Unknown        French  Unknown              Unknown      0.0  \n",
      "11059    0.0  Unknown       Spanish  Unknown              Unknown      0.0  \n",
      "11060    0.0  Unknown       English  Unknown              Unknown      0.0  \n",
      "11061    0.0  Unknown       English  Unknown              Unknown      0.0  \n",
      "11062    0.0  Unknown       English  Unknown              Unknown      0.0  \n",
      "11063    0.0  Unknown       English  Unknown              Unknown      0.0  \n",
      "11064    0.0  Unknown       Spanish  Unknown              Unknown      0.0  \n",
      "11065    0.0  Unknown    Portuguese  Unknown              Unknown      0.0  \n",
      "11066    0.0  Unknown       English  Unknown              Unknown      0.0  \n",
      "11067    0.0  Unknown       English  Unknown              Unknown      0.0  \n",
      "11068    0.0  Unknown       English  Unknown              Unknown      0.0  \n",
      "11069    0.0  Unknown       English  Unknown              Unknown      0.0  \n",
      "11070    0.0  Unknown       English  Unknown              Unknown      0.0  \n",
      "11071    0.0  Unknown       English  Unknown              Unknown      0.0  \n",
      "11072    0.0  Unknown       Turkish  Unknown              Unknown      0.0  \n",
      "11073    0.0  Unknown        Polish  Unknown              Unknown      0.0  \n",
      "11074    0.0  Unknown       Italian  Unknown              Unknown      0.0  \n",
      "11075    0.0  Unknown         Hindi  Unknown              Unknown      0.0  \n",
      "11076    0.0  Unknown       English  Unknown              Unknown      0.0  \n",
      "11077    0.0  Unknown       English  Unknown              Unknown      0.0  \n",
      "11078    0.0  Unknown       English  Unknown              Unknown      0.0  \n",
      "11079    0.0  Unknown       Bengali  Unknown              Unknown      0.0  \n",
      "11080    0.0  Unknown       English  Unknown              Unknown      0.0  \n",
      "11081    0.0  Unknown       English  Unknown              Unknown      0.0  \n",
      "11082    0.0  Unknown         Hindi  Unknown              Unknown      0.0  \n",
      "11083    0.0  Unknown       English  Unknown              Unknown      0.0  \n",
      "11084    0.0  Unknown       English  Unknown              Unknown      0.0  \n",
      "11085    0.0  Unknown       English  Unknown              Unknown      0.0  \n",
      "11086    0.0  Unknown         Hindi  Unknown              Unknown      0.0  \n",
      "11087    0.0  Unknown       Marathi  Unknown              Unknown      0.0  \n",
      "11088    0.0  Unknown       English  Unknown              Unknown      0.0  \n",
      "11089    0.0  Unknown       English  Unknown              Unknown      0.0  \n",
      "11090    0.0  Unknown       Spanish  Unknown              Unknown      0.0  \n",
      "11091    0.0  Unknown        German  Unknown              Unknown      0.0  \n",
      "11092    0.0  Unknown       English  Unknown              Unknown      0.0  \n",
      "11093    0.0  Unknown    Portuguese  Unknown              Unknown      0.0  \n",
      "11094    0.0  Unknown       English  Unknown              Unknown      0.0  \n",
      "11095    0.0  Unknown        German  Unknown              Unknown      0.0  \n",
      "11096    0.0  Unknown       English  Unknown              Unknown      0.0  \n",
      "11097    0.0  Unknown       English  Unknown              Unknown      0.0  \n"
     ]
    }
   ],
   "source": [
    "# Display the duplicated rows\n",
    "duplicates = merged_data[merged_data.duplicated()]\n",
    "print(duplicates)"
   ]
  },
  {
   "cell_type": "code",
   "execution_count": 214,
   "id": "8d361211-479b-42c2-bfbf-59e6d91bd99c",
   "metadata": {},
   "outputs": [
    {
     "name": "stdout",
     "output_type": "stream",
     "text": [
      "                                                  title  year certificate  \\\n",
      "10460                                    The Perfection  2019     Unknown   \n",
      "10467  Porta dos Fundos: The First Temptation of Christ  2019     Unknown   \n",
      "10471                    If Anything Happens I Love You  2020     Unknown   \n",
      "10486                                   Crazy About Her  2021     Unknown   \n",
      "10500                                           Paradox  2018     Unknown   \n",
      "...                                                 ...   ...         ...   \n",
      "11093                                         Laerte-se  2017     Unknown   \n",
      "11094                    If Anything Happens I Love You  2020     Unknown   \n",
      "11095                                        Isi & Ossi  2020     Unknown   \n",
      "11096                   Sarah Cooper: Everything's Fine  2020     Unknown   \n",
      "11097                                           Paradox  2018     Unknown   \n",
      "\n",
      "       duration_min                    genre  rating description    stars  \\\n",
      "10460          90.0          Horror-thriller     6.1     Unknown  Unknown   \n",
      "10467          46.0                   Comedy     4.6     Unknown  Unknown   \n",
      "10471          12.0        Animation / Short     7.8     Unknown  Unknown   \n",
      "10486         102.0          Romantic comedy     6.6     Unknown  Unknown   \n",
      "10500          73.0  Musical/Western/Fantasy     3.9     Unknown  Unknown   \n",
      "...             ...                      ...     ...         ...      ...   \n",
      "11093         100.0              Documentary     6.9     Unknown  Unknown   \n",
      "11094          12.0        Animation / Short     7.8     Unknown  Unknown   \n",
      "11095         113.0          Romantic comedy     6.4     Unknown  Unknown   \n",
      "11096          49.0             Variety show     5.6     Unknown  Unknown   \n",
      "11097          73.0  Musical/Western/Fantasy     3.9     Unknown  Unknown   \n",
      "\n",
      "       votes warnings    language     type production_countries  seasons  \n",
      "10460    0.0  Unknown     English  Unknown              Unknown      0.0  \n",
      "10467    0.0  Unknown  Portuguese  Unknown              Unknown      0.0  \n",
      "10471    0.0  Unknown     English  Unknown              Unknown      0.0  \n",
      "10486    0.0  Unknown     Spanish  Unknown              Unknown      0.0  \n",
      "10500    0.0  Unknown     English  Unknown              Unknown      0.0  \n",
      "...      ...      ...         ...      ...                  ...      ...  \n",
      "11093    0.0  Unknown  Portuguese  Unknown              Unknown      0.0  \n",
      "11094    0.0  Unknown     English  Unknown              Unknown      0.0  \n",
      "11095    0.0  Unknown      German  Unknown              Unknown      0.0  \n",
      "11096    0.0  Unknown     English  Unknown              Unknown      0.0  \n",
      "11097    0.0  Unknown     English  Unknown              Unknown      0.0  \n",
      "\n",
      "[116 rows x 14 columns]\n"
     ]
    }
   ],
   "source": [
    "# Display all rows that are duplicates (including the first occurrence)\n",
    "duplicates_inclusive = merged_data[merged_data.duplicated(keep=False)]\n",
    "print(duplicates_inclusive)"
   ]
  },
  {
   "cell_type": "code",
   "execution_count": 216,
   "id": "8e1c2d58-eac6-4454-8443-7c17f37ece45",
   "metadata": {},
   "outputs": [
    {
     "name": "stdout",
     "output_type": "stream",
     "text": [
      "                      title  year certificate  duration_min  \\\n",
      "287         Heartbreak High  1994       TV-MA          50.0   \n",
      "359             Snowpiercer  2013           R         126.0   \n",
      "373               Shameless  2004       TV-MA          90.0   \n",
      "416    Beauty and the Beast  1991           G          84.0   \n",
      "427            The Stranger  2022       TV-MA         117.0   \n",
      "...                     ...   ...         ...           ...   \n",
      "17187       Pressure Cooker  2023       TV-14          80.0   \n",
      "17204            Dear David  2023       PG-13         118.0   \n",
      "17205       Call Me Chihiro  2023       PG-13         131.0   \n",
      "17215            Rana Naidu  2023       TV-MA          48.0   \n",
      "17220        Princess Power  2023        TV-Y          15.0   \n",
      "\n",
      "                                    genre  rating  \\\n",
      "287                        Drama, Romance     7.8   \n",
      "359              Action, Sci-Fi, Thriller     7.1   \n",
      "373                  Comedy, Crime, Drama     8.0   \n",
      "416            Animation, Family, Fantasy     8.0   \n",
      "427                Crime, Drama, Thriller     7.4   \n",
      "...                                   ...     ...   \n",
      "17187                             reality     6.3   \n",
      "17204              romance, drama, comedy     6.2   \n",
      "17205                               drama     6.8   \n",
      "17215                action, crime, drama     6.7   \n",
      "17220  family, fantasy, animation, comedy     7.8   \n",
      "\n",
      "                                             description  \\\n",
      "287    A crash course in the turbulence of being a te...   \n",
      "359    In a future where a failed climate change expe...   \n",
      "373    The lives and relationships of a group of sibl...   \n",
      "416    A prince cursed to spend his days as a hideous...   \n",
      "427    Two men who meet on a plane and strike up a co...   \n",
      "...                                                  ...   \n",
      "17187  Living under one roof, eleven chefs use culina...   \n",
      "17204  A secret fantasy blog might jeopardize the pro...   \n",
      "17205  An unapologetic former sex worker starts worki...   \n",
      "17215  Rana Naidu is the go-to problem solver for the...   \n",
      "17220  Princess friends from four different Fruitdoms...   \n",
      "\n",
      "                                                   stars     votes warnings  \\\n",
      "287    Callan Mulvey, Lara Cox, Emma Roche, Ada Nicod...    3208.0  Unknown   \n",
      "359    Bong Joon Ho, | ,     Stars:, Chris Evans, Jam...  359095.0  Unknown   \n",
      "373    David Threlfall, Rebecca Atkinson, Alice Barry...   16895.0  Unknown   \n",
      "416    Gary Trousdale, Kirk Wise, | ,     Stars:, \"Pa...  452086.0  Unknown   \n",
      "427    Thomas M. Wright, | ,     Stars:, Joel Edgerto...      85.0  Unknown   \n",
      "...                                                  ...       ...      ...   \n",
      "17187                                            Unknown     695.0  Unknown   \n",
      "17204                                            Unknown     544.0  Unknown   \n",
      "17205                                            Unknown    1097.0  Unknown   \n",
      "17215                                            Unknown    2095.0  Unknown   \n",
      "17220                                            Unknown      60.0  Unknown   \n",
      "\n",
      "      language     type production_countries  seasons  \n",
      "287    Unknown  Unknown              Unknown      0.0  \n",
      "359    Unknown  Unknown              Unknown      0.0  \n",
      "373    Unknown  Unknown              Unknown      0.0  \n",
      "416    Unknown  Unknown              Unknown      0.0  \n",
      "427    Unknown  Unknown              Unknown      0.0  \n",
      "...        ...      ...                  ...      ...  \n",
      "17187  Unknown     Show                   US      1.0  \n",
      "17204  Unknown    Movie                   ID      0.0  \n",
      "17205  Unknown    Movie                   JP      0.0  \n",
      "17215  Unknown     Show                   IN      1.0  \n",
      "17220  Unknown     Show                   US      1.0  \n",
      "\n",
      "[6319 rows x 14 columns]\n"
     ]
    }
   ],
   "source": [
    "# Check duplicate rows based on specific columns (if you suspect certain columns)\n",
    "duplicates_by_columns = merged_data[merged_data.duplicated(subset=['title'])]\n",
    "print(duplicates_by_columns)"
   ]
  },
  {
   "cell_type": "code",
   "execution_count": 218,
   "id": "8b2ae3db-49c6-428e-b68c-bbfcffda2eee",
   "metadata": {},
   "outputs": [],
   "source": [
    "# Define a function to count the non-missing values\n",
    "def count_non_missing(row):\n",
    "    # Replace 'Unknown' and 0 with NaN for easier counting of valid values\n",
    "    return row.replace(['Unknown', 0], [pd.NA, pd.NA]).notna().sum()"
   ]
  },
  {
   "cell_type": "code",
   "execution_count": 220,
   "id": "76381013-c198-4dd9-94d4-31bf86acaf9a",
   "metadata": {},
   "outputs": [],
   "source": [
    "# Apply the function to each row and create a new column 'non_missing_count'\n",
    "merged_data['non_missing_count'] = merged_data.apply(count_non_missing, axis=1)"
   ]
  },
  {
   "cell_type": "code",
   "execution_count": 221,
   "id": "0e6b57f4-a994-42af-b1b6-9f5078958865",
   "metadata": {},
   "outputs": [],
   "source": [
    "# Sort the data first by 'non_missing_count' in descending order, then by 'votes' in descending order\n",
    "merged_data = merged_data.sort_values(by=['non_missing_count', 'votes'], ascending=[False, False])"
   ]
  },
  {
   "cell_type": "code",
   "execution_count": 224,
   "id": "41b093ec-f548-40e5-882a-ab0c3be6c83e",
   "metadata": {},
   "outputs": [],
   "source": [
    "# Remove duplicates based on the 'title' and 'year' columns, keeping the first (best) row\n",
    "merged_data_cleaned = merged_data.drop_duplicates(subset=['title', 'year'], keep='first')"
   ]
  },
  {
   "cell_type": "code",
   "execution_count": 226,
   "id": "3a4e9c84-4394-4451-adcd-42e2f59c28ab",
   "metadata": {},
   "outputs": [],
   "source": [
    "# Drop the helper 'non_missing_count' column\n",
    "merged_data_cleaned = merged_data_cleaned.drop(columns=['non_missing_count'])"
   ]
  },
  {
   "cell_type": "code",
   "execution_count": 228,
   "id": "f2e19718-9432-4308-bb2f-d50b1b1a27ba",
   "metadata": {},
   "outputs": [
    {
     "name": "stdout",
     "output_type": "stream",
     "text": [
      "                          title  year certificate  duration_min  \\\n",
      "11284              Breaking Bad  2008       TV-MA          48.0   \n",
      "12015           Stranger Things  2016       TV-14          61.0   \n",
      "11285          The Walking Dead  2010       TV-MA          46.0   \n",
      "11777            Peaky Blinders  2013       TV-MA          58.0   \n",
      "11629              Black Mirror  2011       TV-MA          59.0   \n",
      "...                         ...   ...         ...           ...   \n",
      "10439               Blank Check  1994     Unknown           0.0   \n",
      "10440              Heavyweights  1995     Unknown           0.0   \n",
      "10443      D2: The Mighty Ducks  1994     Unknown           0.0   \n",
      "10444  Honey, I Shrunk the Kids  1989     Unknown           0.0   \n",
      "10448       H2O: Just Add Water  2009     Unknown           0.0   \n",
      "\n",
      "                                         genre  rating  \\\n",
      "11284           drama, comedy, crime, thriller     9.2   \n",
      "12015  drama, scifi, thriller, fantasy, horror     8.6   \n",
      "11285          action, drama, horror, thriller     8.1   \n",
      "11777                   drama, crime, european     8.7   \n",
      "11629         scifi, drama, thriller, european     8.6   \n",
      "...                                        ...     ...   \n",
      "10439                                  Unknown     9.3   \n",
      "10440                                  Unknown     7.4   \n",
      "10443                                  Unknown     7.0   \n",
      "10444                                  Unknown     8.0   \n",
      "10448                                  Unknown     7.4   \n",
      "\n",
      "                                             description    stars      votes  \\\n",
      "11284  When Walter White, a New Mexico chemistry teac...  Unknown  1936461.0   \n",
      "12015  When a young boy vanishes, a small town uncove...  Unknown  1220079.0   \n",
      "11285  Sheriff's deputy Rick Grimes awakens from a co...  Unknown  1013253.0   \n",
      "11777  A gangster family epic set in 1919 Birmingham,...  Unknown   567949.0   \n",
      "11629  A contemporary British re-working of The Twili...  Unknown   560631.0   \n",
      "...                                                  ...      ...        ...   \n",
      "10439                                            Unknown  Unknown       80.0   \n",
      "10440                                            Unknown  Unknown       80.0   \n",
      "10443                                            Unknown  Unknown       80.0   \n",
      "10444                                            Unknown  Unknown       80.0   \n",
      "10448                                            Unknown  Unknown       80.0   \n",
      "\n",
      "                                                warnings language     type  \\\n",
      "11284                                            Unknown  Unknown     Show   \n",
      "12015                                            Unknown  Unknown     Show   \n",
      "11285                                            Unknown  Unknown     Show   \n",
      "11777                                            Unknown  Unknown     Show   \n",
      "11629                                            Unknown  Unknown     Show   \n",
      "...                                                  ...      ...      ...   \n",
      "10439  Parental guidance suggested. May not be suitab...  Unknown  Unknown   \n",
      "10440                      some rude language and pranks  Unknown  Unknown   \n",
      "10443         some mild language and rough hockey action  Unknown  Unknown   \n",
      "10444  Parental guidance suggested. May not be suitab...  Unknown  Unknown   \n",
      "10448  Parental guidance suggested. May not be suitab...  Unknown  Unknown   \n",
      "\n",
      "      production_countries  seasons  \n",
      "11284                   US      5.0  \n",
      "12015                   US      5.0  \n",
      "11285                   US     11.0  \n",
      "11777                   GB      6.0  \n",
      "11629                   GB      5.0  \n",
      "...                    ...      ...  \n",
      "10439              Unknown      0.0  \n",
      "10440              Unknown      0.0  \n",
      "10443              Unknown      0.0  \n",
      "10444              Unknown      0.0  \n",
      "10448              Unknown      0.0  \n",
      "\n",
      "[11391 rows x 14 columns]\n"
     ]
    }
   ],
   "source": [
    "# Display the cleaned dataset\n",
    "print(merged_data_cleaned)"
   ]
  },
  {
   "cell_type": "code",
   "execution_count": 230,
   "id": "abb511cd-3592-4fa5-817a-a14d3c7a8654",
   "metadata": {},
   "outputs": [],
   "source": [
    "# Save the cleaned dataset to a CSV file\n",
    "output_path = r'C:\\Users\\saman\\Downloads\\FP_BA_Netflix\\cleaned_merged_data.csv'\n",
    "merged_data_cleaned.to_csv(output_path, index=False)"
   ]
  },
  {
   "cell_type": "code",
   "execution_count": 234,
   "id": "5a7ff135-aaf5-44d7-8ad4-a7fa4db983de",
   "metadata": {},
   "outputs": [],
   "source": [
    "# Use ExcelWriter to save all datasets in one Excel file with different sheets\n",
    "with pd.ExcelWriter(r'C:\\Users\\saman\\Downloads\\FP_BA_Netflix\\all_datasets.xlsx') as writer:\n",
    "    data1.to_excel(writer, sheet_name='Clean_Data1', index=False)\n",
    "    data2.to_excel(writer, sheet_name='Clean_Data2', index=False)\n",
    "    data3.to_excel(writer, sheet_name='Clean_Data3', index=False)\n",
    "    data4.to_excel(writer, sheet_name='Clean_Data4', index=False)\n",
    "    merged_data.to_excel(writer, sheet_name='Merged_Data', index=False)\n",
    "    merged_data_cleaned.to_excel(writer, sheet_name='Cleaned_Merged_Data', index=False)"
   ]
  },
  {
   "cell_type": "code",
   "execution_count": 236,
   "id": "0d9ab7bc-2199-4c6f-a4ce-0c2fd03aa816",
   "metadata": {},
   "outputs": [
    {
     "name": "stdout",
     "output_type": "stream",
     "text": [
      "title                   0\n",
      "year                    0\n",
      "certificate             0\n",
      "duration_min            0\n",
      "genre                   0\n",
      "rating                  0\n",
      "description             0\n",
      "stars                   0\n",
      "votes                   0\n",
      "warnings                0\n",
      "language                0\n",
      "type                    0\n",
      "production_countries    0\n",
      "seasons                 0\n",
      "dtype: int64\n"
     ]
    }
   ],
   "source": [
    "# Check for missing values in the dataset\n",
    "print(merged_data_cleaned.isnull().sum())"
   ]
  },
  {
   "cell_type": "code",
   "execution_count": null,
   "id": "a8a63671-c890-4896-967d-6b4b72ac8926",
   "metadata": {},
   "outputs": [],
   "source": []
  }
 ],
 "metadata": {
  "kernelspec": {
   "display_name": "Python 3 (ipykernel)",
   "language": "python",
   "name": "python3"
  },
  "language_info": {
   "codemirror_mode": {
    "name": "ipython",
    "version": 3
   },
   "file_extension": ".py",
   "mimetype": "text/x-python",
   "name": "python",
   "nbconvert_exporter": "python",
   "pygments_lexer": "ipython3",
   "version": "3.12.4"
  }
 },
 "nbformat": 4,
 "nbformat_minor": 5
}

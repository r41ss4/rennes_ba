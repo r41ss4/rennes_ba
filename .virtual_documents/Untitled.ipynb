


# Import libs
import pandas as pd
import numpy as np





# Read database 1 
data_n1 = pd.read_csv("data_n1.csv")


# General data_n1 view
data_n1.head(10)


# Review data_n1 information 
data_n1.shape


# Review data_n1 general information
data_n1.info()


# Review data_n1 columns 
data_n1.columns


# Review the data and how many rows have missing information in each columns
data_n1.isna().sum()


# Make a copy of clean_datan1 to clean
clean_datan1 = data_n1


# Review the data and how many rows have missing information in each columns
clean_datan1.isna().sum()




















# Read database 2 
data_n2 = pd.read_csv("data_n2.csv")


# Read the file with ISO-8859-1 encoding
data_n2 = pd.read_csv("data_n2.csv", encoding='ISO-8859-1')


# General data_n2 view
data_n2.head(10)


# Review data_n2 information 
data_n2.shape


# Review data_n2 general information
data_n2.info()


# Review data_n2 columns 
data_n2.columns


# Review the data and how many rows have missing information in each columns
data_n2.isna().sum()


# Make a copy of clean_datan2 to clean
clean_datan2 = data_n2


# Review the data and how many rows have missing information in each columns
clean_datan2.isna().sum()























# Read database 3 
data_n3 = pd.read_csv("data_n3.csv")


# General data_n3 view
data_n3.head(10)


# Review data_n3 information 
data_n3.shape


# Review data_n3 general information
data_n3.info()


# Review data_n3 columns 
data_n3.columns


# Review the data and how many rows have missing information in each columns
data_n3.isna().sum()









